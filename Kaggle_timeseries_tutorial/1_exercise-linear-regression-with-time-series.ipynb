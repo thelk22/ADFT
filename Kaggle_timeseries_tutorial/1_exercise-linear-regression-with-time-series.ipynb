{
 "cells": [
  {
   "cell_type": "markdown",
   "id": "9e75c262",
   "metadata": {
    "papermill": {
     "duration": 0.025656,
     "end_time": "2022-02-28T17:47:30.956594",
     "exception": false,
     "start_time": "2022-02-28T17:47:30.930938",
     "status": "completed"
    },
    "tags": []
   },
   "source": [
    "**This notebook is an exercise in the [Time Series](https://www.kaggle.com/learn/time-series) course.  You can reference the tutorial at [this link](https://www.kaggle.com/ryanholbrook/linear-regression-with-time-series).**\n",
    "\n",
    "---\n"
   ]
  },
  {
   "cell_type": "markdown",
   "id": "c50b0463",
   "metadata": {
    "papermill": {
     "duration": 0.023454,
     "end_time": "2022-02-28T17:47:31.004285",
     "exception": false,
     "start_time": "2022-02-28T17:47:30.980831",
     "status": "completed"
    },
    "tags": []
   },
   "source": [
    "# Introduction #\n",
    "\n",
    "Run this cell to set everything up!"
   ]
  },
  {
   "cell_type": "code",
   "execution_count": 1,
   "id": "131ff641",
   "metadata": {
    "execution": {
     "iopub.execute_input": "2022-02-28T17:47:31.068892Z",
     "iopub.status.busy": "2022-02-28T17:47:31.067914Z",
     "iopub.status.idle": "2022-02-28T17:47:40.218737Z",
     "shell.execute_reply": "2022-02-28T17:47:40.218053Z",
     "shell.execute_reply.started": "2022-02-28T17:12:58.208274Z"
    },
    "papermill": {
     "duration": 9.190438,
     "end_time": "2022-02-28T17:47:40.218910",
     "exception": false,
     "start_time": "2022-02-28T17:47:31.028472",
     "status": "completed"
    },
    "tags": []
   },
   "outputs": [],
   "source": [
    "# Setup feedback system\n",
    "from learntools.core import binder\n",
    "binder.bind(globals())\n",
    "from learntools.time_series.ex1 import *\n",
    "\n",
    "# Setup notebook\n",
    "from pathlib import Path\n",
    "from learntools.time_series.style import *  # plot style settings\n",
    "\n",
    "import pandas as pd\n",
    "import matplotlib.pyplot as plt\n",
    "import numpy as np\n",
    "import seaborn as sns\n",
    "from sklearn.linear_model import LinearRegression\n",
    "\n",
    "\n",
    "data_dir = Path('../input/ts-course-data/')\n",
    "comp_dir = Path('../input/store-sales-time-series-forecasting')\n",
    "\n",
    "book_sales = pd.read_csv(\n",
    "    data_dir / 'book_sales.csv',\n",
    "    index_col='Date',\n",
    "    parse_dates=['Date'],\n",
    ").drop('Paperback', axis=1)\n",
    "book_sales['Time'] = np.arange(len(book_sales.index))\n",
    "book_sales['Lag_1'] = book_sales['Hardcover'].shift(1)\n",
    "book_sales = book_sales.reindex(columns=['Hardcover', 'Time', 'Lag_1'])\n",
    "\n",
    "ar = pd.read_csv(data_dir / 'ar.csv')\n",
    "\n",
    "dtype = {\n",
    "    'store_nbr': 'category',\n",
    "    'family': 'category',\n",
    "    'sales': 'float32',\n",
    "    'onpromotion': 'uint64',\n",
    "}\n",
    "store_sales = pd.read_csv(\n",
    "    comp_dir / 'train.csv',\n",
    "    dtype=dtype,\n",
    "    parse_dates=['date'],\n",
    "    infer_datetime_format=True,\n",
    ")\n",
    "store_sales = store_sales.set_index('date').to_period('D')\n",
    "store_sales = store_sales.set_index(['store_nbr', 'family'], append=True)\n",
    "average_sales = store_sales.groupby('date').mean()['sales']"
   ]
  },
  {
   "cell_type": "code",
   "execution_count": 2,
   "id": "839581a6",
   "metadata": {
    "execution": {
     "iopub.execute_input": "2022-02-28T17:47:40.271559Z",
     "iopub.status.busy": "2022-02-28T17:47:40.270890Z",
     "iopub.status.idle": "2022-02-28T17:47:40.287522Z",
     "shell.execute_reply": "2022-02-28T17:47:40.288032Z",
     "shell.execute_reply.started": "2022-02-28T17:13:45.293754Z"
    },
    "papermill": {
     "duration": 0.044359,
     "end_time": "2022-02-28T17:47:40.288196",
     "exception": false,
     "start_time": "2022-02-28T17:47:40.243837",
     "status": "completed"
    },
    "tags": []
   },
   "outputs": [
    {
     "data": {
      "text/html": [
       "<div>\n",
       "<style scoped>\n",
       "    .dataframe tbody tr th:only-of-type {\n",
       "        vertical-align: middle;\n",
       "    }\n",
       "\n",
       "    .dataframe tbody tr th {\n",
       "        vertical-align: top;\n",
       "    }\n",
       "\n",
       "    .dataframe thead th {\n",
       "        text-align: right;\n",
       "    }\n",
       "</style>\n",
       "<table border=\"1\" class=\"dataframe\">\n",
       "  <thead>\n",
       "    <tr style=\"text-align: right;\">\n",
       "      <th></th>\n",
       "      <th>Hardcover</th>\n",
       "      <th>Time</th>\n",
       "      <th>Lag_1</th>\n",
       "    </tr>\n",
       "    <tr>\n",
       "      <th>Date</th>\n",
       "      <th></th>\n",
       "      <th></th>\n",
       "      <th></th>\n",
       "    </tr>\n",
       "  </thead>\n",
       "  <tbody>\n",
       "    <tr>\n",
       "      <th>2000-04-01</th>\n",
       "      <td>139</td>\n",
       "      <td>0</td>\n",
       "      <td>NaN</td>\n",
       "    </tr>\n",
       "    <tr>\n",
       "      <th>2000-04-02</th>\n",
       "      <td>128</td>\n",
       "      <td>1</td>\n",
       "      <td>139.0</td>\n",
       "    </tr>\n",
       "    <tr>\n",
       "      <th>2000-04-03</th>\n",
       "      <td>172</td>\n",
       "      <td>2</td>\n",
       "      <td>128.0</td>\n",
       "    </tr>\n",
       "    <tr>\n",
       "      <th>2000-04-04</th>\n",
       "      <td>139</td>\n",
       "      <td>3</td>\n",
       "      <td>172.0</td>\n",
       "    </tr>\n",
       "    <tr>\n",
       "      <th>2000-04-05</th>\n",
       "      <td>191</td>\n",
       "      <td>4</td>\n",
       "      <td>139.0</td>\n",
       "    </tr>\n",
       "  </tbody>\n",
       "</table>\n",
       "</div>"
      ],
      "text/plain": [
       "            Hardcover  Time  Lag_1\n",
       "Date                              \n",
       "2000-04-01        139     0    NaN\n",
       "2000-04-02        128     1  139.0\n",
       "2000-04-03        172     2  128.0\n",
       "2000-04-04        139     3  172.0\n",
       "2000-04-05        191     4  139.0"
      ]
     },
     "execution_count": 2,
     "metadata": {},
     "output_type": "execute_result"
    }
   ],
   "source": [
    "book_sales.head()"
   ]
  },
  {
   "cell_type": "markdown",
   "id": "869c5665",
   "metadata": {
    "papermill": {
     "duration": 0.024462,
     "end_time": "2022-02-28T17:47:40.338237",
     "exception": false,
     "start_time": "2022-02-28T17:47:40.313775",
     "status": "completed"
    },
    "tags": []
   },
   "source": [
    "--------------------------------------------------------------------------------\n",
    "\n",
    "One advantage linear regression has over more complicated algorithms is that the models it creates are *explainable* -- it's easy to interpret what contribution each feature makes to the predictions. In the model `target = weight * feature + bias`, the `weight` tells you by how much the `target` changes on average for each unit of change in the `feature`.\n",
    "\n",
    "Run the next cell to see a linear regression on *Hardcover Sales*."
   ]
  },
  {
   "cell_type": "code",
   "execution_count": 3,
   "id": "d3c1dd51",
   "metadata": {
    "execution": {
     "iopub.execute_input": "2022-02-28T17:47:40.391139Z",
     "iopub.status.busy": "2022-02-28T17:47:40.390418Z",
     "iopub.status.idle": "2022-02-28T17:47:40.781526Z",
     "shell.execute_reply": "2022-02-28T17:47:40.782072Z",
     "shell.execute_reply.started": "2022-02-28T17:17:01.380593Z"
    },
    "papermill": {
     "duration": 0.419505,
     "end_time": "2022-02-28T17:47:40.782260",
     "exception": false,
     "start_time": "2022-02-28T17:47:40.362755",
     "status": "completed"
    },
    "tags": []
   },
   "outputs": [
    {
     "data": {
      "image/png": "[encoded data removed]",
      "text/plain": [
       "<Figure size 792x288 with 1 Axes>"
      ]
     },
     "metadata": {},
     "output_type": "display_data"
    }
   ],
   "source": [
    "fig, ax = plt.subplots()\n",
    "ax.plot('Time', 'Hardcover', data=book_sales, color='0.75')\n",
    "ax = sns.regplot(x='Time', y='Hardcover', data=book_sales, ci=None, scatter_kws=dict(color='0.25'))\n",
    "ax.set_title('Time Plot of Hardcover Sales');\n"
   ]
  },
  {
   "cell_type": "markdown",
   "id": "5a9d184c",
   "metadata": {
    "papermill": {
     "duration": 0.029114,
     "end_time": "2022-02-28T17:47:40.846202",
     "exception": false,
     "start_time": "2022-02-28T17:47:40.817088",
     "status": "completed"
    },
    "tags": []
   },
   "source": [
    "# 1) Interpret linear regression with the time dummy\n",
    "\n",
    "The linear regression line has an equation of (approximately) `Hardcover = 3.33 * Time + 150.5`. Over 6 days how much on average would you expect hardcover sales to change? After you've thought about it, run the next cell."
   ]
  },
  {
   "cell_type": "code",
   "execution_count": 4,
   "id": "117f9cf8",
   "metadata": {
    "execution": {
     "iopub.execute_input": "2022-02-28T17:47:40.911277Z",
     "iopub.status.busy": "2022-02-28T17:47:40.910575Z",
     "iopub.status.idle": "2022-02-28T17:47:40.920058Z",
     "shell.execute_reply": "2022-02-28T17:47:40.920746Z",
     "shell.execute_reply.started": "2022-02-28T17:27:40.543382Z"
    },
    "papermill": {
     "duration": 0.045912,
     "end_time": "2022-02-28T17:47:40.920999",
     "exception": false,
     "start_time": "2022-02-28T17:47:40.875087",
     "status": "completed"
    },
    "tags": []
   },
   "outputs": [
    {
     "data": {
      "application/javascript": [
       "parent.postMessage({\"jupyterEvent\": \"custom.exercise_interaction\", \"data\": {\"outcomeType\": 1, \"valueTowardsCompletion\": 0.25, \"interactionType\": 1, \"questionType\": 4, \"questionId\": \"1_Q1\", \"learnToolsVersion\": \"0.3.4\", \"failureMessage\": \"\", \"exceptionClass\": \"\", \"trace\": \"\"}}, \"*\")"
      ],
      "text/plain": [
       "<IPython.core.display.Javascript object>"
      ]
     },
     "metadata": {},
     "output_type": "display_data"
    },
    {
     "data": {
      "text/markdown": [
       "<span style=\"color:#33cc33\">Correct:</span> \n",
       "\n",
       "A change of 6 steps in `Time` corresponds to an average change of 6 * 3.33 = 19.98 in `Hardcover` sales.\n"
      ],
      "text/plain": [
       "Correct: \n",
       "\n",
       "A change of 6 steps in `Time` corresponds to an average change of 6 * 3.33 = 19.98 in `Hardcover` sales."
      ]
     },
     "metadata": {},
     "output_type": "display_data"
    }
   ],
   "source": [
    "# By 3.33 * 6 which is roughly 20\n",
    "\n",
    "# View the solution (Run this line to receive credit!)\n",
    "q_1.check()"
   ]
  },
  {
   "cell_type": "code",
   "execution_count": 5,
   "id": "f0eb4ba1",
   "metadata": {
    "execution": {
     "iopub.execute_input": "2022-02-28T17:47:40.993389Z",
     "iopub.status.busy": "2022-02-28T17:47:40.992719Z",
     "iopub.status.idle": "2022-02-28T17:47:40.996489Z",
     "shell.execute_reply": "2022-02-28T17:47:40.997142Z",
     "shell.execute_reply.started": "2022-02-28T17:28:10.750279Z"
    },
    "papermill": {
     "duration": 0.035881,
     "end_time": "2022-02-28T17:47:40.997313",
     "exception": false,
     "start_time": "2022-02-28T17:47:40.961432",
     "status": "completed"
    },
    "tags": []
   },
   "outputs": [],
   "source": [
    "# Uncomment the next line for a hint\n",
    "# q_1.hint()"
   ]
  },
  {
   "cell_type": "markdown",
   "id": "577ff2bb",
   "metadata": {
    "papermill": {
     "duration": 0.032267,
     "end_time": "2022-02-28T17:47:41.059813",
     "exception": false,
     "start_time": "2022-02-28T17:47:41.027546",
     "status": "completed"
    },
    "tags": []
   },
   "source": [
    "-------------------------------------------------------------------------------\n",
    "\n",
    "Interpreting the regression coefficients can help us recognize serial dependence in a time plot. Consider the model `target = weight * lag_1 + error`, where `error` is random noise and `weight` is a number between -1 and 1. The `weight` in this case tells you how likely the next time step will have the same sign as the previous time step: a `weight` close to 1 means `target` will likely have the same sign as the previous step, while a `weight` close to -1 means `target` will likely have the opposite sign.\n",
    "\n",
    "# 2) Interpret linear regression with a lag feature\n",
    "\n",
    "Run the following cell to see two series generated according to the model just described."
   ]
  },
  {
   "cell_type": "code",
   "execution_count": 6,
   "id": "4923e034",
   "metadata": {
    "execution": {
     "iopub.execute_input": "2022-02-28T17:47:41.122105Z",
     "iopub.status.busy": "2022-02-28T17:47:41.121369Z",
     "iopub.status.idle": "2022-02-28T17:47:41.134033Z",
     "shell.execute_reply": "2022-02-28T17:47:41.134661Z",
     "shell.execute_reply.started": "2022-02-28T17:29:45.789590Z"
    },
    "papermill": {
     "duration": 0.045032,
     "end_time": "2022-02-28T17:47:41.134831",
     "exception": false,
     "start_time": "2022-02-28T17:47:41.089799",
     "status": "completed"
    },
    "tags": []
   },
   "outputs": [
    {
     "data": {
      "text/html": [
       "<div>\n",
       "<style scoped>\n",
       "    .dataframe tbody tr th:only-of-type {\n",
       "        vertical-align: middle;\n",
       "    }\n",
       "\n",
       "    .dataframe tbody tr th {\n",
       "        vertical-align: top;\n",
       "    }\n",
       "\n",
       "    .dataframe thead th {\n",
       "        text-align: right;\n",
       "    }\n",
       "</style>\n",
       "<table border=\"1\" class=\"dataframe\">\n",
       "  <thead>\n",
       "    <tr style=\"text-align: right;\">\n",
       "      <th></th>\n",
       "      <th>ar1</th>\n",
       "      <th>ar2</th>\n",
       "    </tr>\n",
       "  </thead>\n",
       "  <tbody>\n",
       "    <tr>\n",
       "      <th>0</th>\n",
       "      <td>0.541286</td>\n",
       "      <td>-1.234475</td>\n",
       "    </tr>\n",
       "    <tr>\n",
       "      <th>1</th>\n",
       "      <td>-1.692950</td>\n",
       "      <td>3.532498</td>\n",
       "    </tr>\n",
       "    <tr>\n",
       "      <th>2</th>\n",
       "      <td>-1.730106</td>\n",
       "      <td>-3.915508</td>\n",
       "    </tr>\n",
       "    <tr>\n",
       "      <th>3</th>\n",
       "      <td>-0.783524</td>\n",
       "      <td>2.820841</td>\n",
       "    </tr>\n",
       "    <tr>\n",
       "      <th>4</th>\n",
       "      <td>-1.796207</td>\n",
       "      <td>-1.084120</td>\n",
       "    </tr>\n",
       "  </tbody>\n",
       "</table>\n",
       "</div>"
      ],
      "text/plain": [
       "        ar1       ar2\n",
       "0  0.541286 -1.234475\n",
       "1 -1.692950  3.532498\n",
       "2 -1.730106 -3.915508\n",
       "3 -0.783524  2.820841\n",
       "4 -1.796207 -1.084120"
      ]
     },
     "execution_count": 6,
     "metadata": {},
     "output_type": "execute_result"
    }
   ],
   "source": [
    "ar.head()"
   ]
  },
  {
   "cell_type": "code",
   "execution_count": 7,
   "id": "1e391088",
   "metadata": {
    "execution": {
     "iopub.execute_input": "2022-02-28T17:47:41.204108Z",
     "iopub.status.busy": "2022-02-28T17:47:41.203388Z",
     "iopub.status.idle": "2022-02-28T17:47:41.648315Z",
     "shell.execute_reply": "2022-02-28T17:47:41.649088Z",
     "shell.execute_reply.started": "2022-02-28T17:30:05.051623Z"
    },
    "papermill": {
     "duration": 0.480851,
     "end_time": "2022-02-28T17:47:41.649317",
     "exception": false,
     "start_time": "2022-02-28T17:47:41.168466",
     "status": "completed"
    },
    "tags": []
   },
   "outputs": [
    {
     "data": {
      "image/png": "[encoded data removed]",
      "text/plain": [
       "<Figure size 792x396 with 2 Axes>"
      ]
     },
     "metadata": {},
     "output_type": "display_data"
    }
   ],
   "source": [
    "fig, (ax1, ax2) = plt.subplots(2, 1, figsize=(11, 5.5), sharex=True)\n",
    "ax1.plot(ar['ar1'])\n",
    "ax1.set_title('Series 1')\n",
    "ax2.plot(ar['ar2'])\n",
    "ax2.set_title('Series 2');"
   ]
  },
  {
   "cell_type": "markdown",
   "id": "4486cde7",
   "metadata": {
    "papermill": {
     "duration": 0.032247,
     "end_time": "2022-02-28T17:47:41.717749",
     "exception": false,
     "start_time": "2022-02-28T17:47:41.685502",
     "status": "completed"
    },
    "tags": []
   },
   "source": [
    "One of these series has the equation `target = 0.95 * lag_1 + error` and the other has the equation `target = -0.95 * lag_1 + error`, differing only by the sign on the lag feature. Can you tell which equation goes with each series?"
   ]
  },
  {
   "cell_type": "code",
   "execution_count": 8,
   "id": "f557c643",
   "metadata": {
    "execution": {
     "iopub.execute_input": "2022-02-28T17:47:41.786679Z",
     "iopub.status.busy": "2022-02-28T17:47:41.785958Z",
     "iopub.status.idle": "2022-02-28T17:47:41.791845Z",
     "shell.execute_reply": "2022-02-28T17:47:41.791316Z",
     "shell.execute_reply.started": "2022-02-28T17:31:07.494116Z"
    },
    "papermill": {
     "duration": 0.043187,
     "end_time": "2022-02-28T17:47:41.791980",
     "exception": false,
     "start_time": "2022-02-28T17:47:41.748793",
     "status": "completed"
    },
    "tags": []
   },
   "outputs": [
    {
     "data": {
      "application/javascript": [
       "parent.postMessage({\"jupyterEvent\": \"custom.exercise_interaction\", \"data\": {\"outcomeType\": 1, \"valueTowardsCompletion\": 0.25, \"interactionType\": 1, \"questionType\": 4, \"questionId\": \"2_Q2\", \"learnToolsVersion\": \"0.3.4\", \"failureMessage\": \"\", \"exceptionClass\": \"\", \"trace\": \"\"}}, \"*\")"
      ],
      "text/plain": [
       "<IPython.core.display.Javascript object>"
      ]
     },
     "metadata": {},
     "output_type": "display_data"
    },
    {
     "data": {
      "text/markdown": [
       "<span style=\"color:#33cc33\">Correct:</span> \n",
       "\n",
       "**Series 1** was generated by `target = 0.95 * lag_1 + error` and **Series 2** was generated by `target = -0.95 * lag_1 + error`.\n"
      ],
      "text/plain": [
       "Correct: \n",
       "\n",
       "**Series 1** was generated by `target = 0.95 * lag_1 + error` and **Series 2** was generated by `target = -0.95 * lag_1 + error`."
      ]
     },
     "metadata": {},
     "output_type": "display_data"
    }
   ],
   "source": [
    "# The first equation corresponds to Series 1, the second equation to Series 2\n",
    "\n",
    "# View the solution (Run this cell to receive credit!)\n",
    "q_2.check()"
   ]
  },
  {
   "cell_type": "code",
   "execution_count": 9,
   "id": "c0bd1d7f",
   "metadata": {
    "execution": {
     "iopub.execute_input": "2022-02-28T17:47:41.860678Z",
     "iopub.status.busy": "2022-02-28T17:47:41.859710Z",
     "iopub.status.idle": "2022-02-28T17:47:41.862916Z",
     "shell.execute_reply": "2022-02-28T17:47:41.863510Z"
    },
    "papermill": {
     "duration": 0.039058,
     "end_time": "2022-02-28T17:47:41.863690",
     "exception": false,
     "start_time": "2022-02-28T17:47:41.824632",
     "status": "completed"
    },
    "tags": []
   },
   "outputs": [],
   "source": [
    "# Uncomment the next line for a hint\n",
    "#q_2.hint()"
   ]
  },
  {
   "cell_type": "markdown",
   "id": "4c318db0",
   "metadata": {
    "papermill": {
     "duration": 0.033786,
     "end_time": "2022-02-28T17:47:41.930874",
     "exception": false,
     "start_time": "2022-02-28T17:47:41.897088",
     "status": "completed"
    },
    "tags": []
   },
   "source": [
    "-------------------------------------------------------------------------------\n",
    "\n",
    "Now we'll get started with the *Store Sales - Time Series Forecasting* competition data. The entire dataset comprises almost 1800 series recording store sales across a variety of product families from 2013 into 2017. For this lesson, we'll just work with a single series (`average_sales`) of the average sales each day.\n",
    "\n",
    "# 3) Fit a time-step feature\n",
    "\n",
    "Complete the code below to create a linear regression model with a time-step feature on the series of average product sales. The target is in a column called `'sales'`."
   ]
  },
  {
   "cell_type": "code",
   "execution_count": 10,
   "id": "2b913b9e",
   "metadata": {
    "execution": {
     "iopub.execute_input": "2022-02-28T17:47:42.001203Z",
     "iopub.status.busy": "2022-02-28T17:47:42.000162Z",
     "iopub.status.idle": "2022-02-28T17:47:42.118566Z",
     "shell.execute_reply": "2022-02-28T17:47:42.117102Z",
     "shell.execute_reply.started": "2022-02-28T17:43:36.535785Z"
    },
    "papermill": {
     "duration": 0.153941,
     "end_time": "2022-02-28T17:47:42.118871",
     "exception": true,
     "start_time": "2022-02-28T17:47:41.964930",
     "status": "failed"
    },
    "tags": []
   },
   "outputs": [
    {
     "ename": "NameError",
     "evalue": "name 'df' is not defined",
     "output_type": "error",
     "traceback": [
      "\u001b[0;31m---------------------------------------------------------------------------\u001b[0m",
      "\u001b[0;31mNameError\u001b[0m                                 Traceback (most recent call last)",
      "\u001b[0;32m/tmp/ipykernel_20/3633941725.py\u001b[0m in \u001b[0;36m<module>\u001b[0;34m\u001b[0m\n\u001b[1;32m      1\u001b[0m \u001b[0maverage_sales\u001b[0m\u001b[0;34m.\u001b[0m\u001b[0mhead\u001b[0m\u001b[0;34m(\u001b[0m\u001b[0;34m)\u001b[0m\u001b[0;34m\u001b[0m\u001b[0;34m\u001b[0m\u001b[0m\n\u001b[1;32m      2\u001b[0m \u001b[0;34m\u001b[0m\u001b[0m\n\u001b[0;32m----> 3\u001b[0;31m \u001b[0mdf\u001b[0m\u001b[0;34m.\u001b[0m\u001b[0mhead\u001b[0m\u001b[0;34m(\u001b[0m\u001b[0;34m)\u001b[0m\u001b[0;34m\u001b[0m\u001b[0;34m\u001b[0m\u001b[0m\n\u001b[0m\u001b[1;32m      4\u001b[0m \u001b[0;34m\u001b[0m\u001b[0m\n\u001b[1;32m      5\u001b[0m \u001b[0mdf\u001b[0m\u001b[0;34m.\u001b[0m\u001b[0mloc\u001b[0m\u001b[0;34m[\u001b[0m\u001b[0;34m:\u001b[0m\u001b[0;34m,\u001b[0m\u001b[0;34m[\u001b[0m\u001b[0;34m'time'\u001b[0m\u001b[0;34m]\u001b[0m\u001b[0;34m]\u001b[0m\u001b[0;34m\u001b[0m\u001b[0;34m\u001b[0m\u001b[0m\n",
      "\u001b[0;31mNameError\u001b[0m: name 'df' is not defined"
     ]
    }
   ],
   "source": [
    "average_sales.head()\n",
    "\n",
    "df.head()\n",
    "\n",
    "df.loc[:,['time']]\n",
    "df.loc[:, 'sales']"
   ]
  },
  {
   "cell_type": "code",
   "execution_count": null,
   "id": "6a7e420f",
   "metadata": {
    "execution": {
     "iopub.execute_input": "2022-02-28T17:42:56.992476Z",
     "iopub.status.busy": "2022-02-28T17:42:56.991942Z",
     "iopub.status.idle": "2022-02-28T17:42:57.014637Z",
     "shell.execute_reply": "2022-02-28T17:42:57.013630Z",
     "shell.execute_reply.started": "2022-02-28T17:42:56.992437Z"
    },
    "papermill": {
     "duration": null,
     "end_time": null,
     "exception": null,
     "start_time": null,
     "status": "pending"
    },
    "tags": []
   },
   "outputs": [],
   "source": [
    "from sklearn.linear_model import LinearRegression\n",
    "\n",
    "df = average_sales.to_frame()\n",
    "\n",
    "# YOUR CODE HERE: Create a time dummy\n",
    "time = np.arange(len(df))\n",
    "\n",
    "df['time'] = time \n",
    "\n",
    "# YOUR CODE HERE: Create training data\n",
    "train_size = 0.7\n",
    "index_split = np.floor(train_size * len(df))\n",
    "X = df.loc[:, ['time']]  # features\n",
    "y = df.loc[:, 'sales']  # target\n",
    "\n",
    "# Train the model\n",
    "model = LinearRegression()\n",
    "model.fit(X, y)\n",
    "\n",
    "# Store the fitted values as a time series with the same time index as\n",
    "# the training data\n",
    "y_pred = pd.Series(model.predict(X), index=X.index)\n",
    "\n",
    "\n",
    "# Check your answer\n",
    "q_3.check()"
   ]
  },
  {
   "cell_type": "code",
   "execution_count": null,
   "id": "4464edaf",
   "metadata": {
    "papermill": {
     "duration": null,
     "end_time": null,
     "exception": null,
     "start_time": null,
     "status": "pending"
    },
    "tags": []
   },
   "outputs": [],
   "source": [
    "# Lines below will give you a hint or solution code\n",
    "#q_3.hint()\n",
    "#q_3.solution()"
   ]
  },
  {
   "cell_type": "markdown",
   "id": "e7cfac7e",
   "metadata": {
    "papermill": {
     "duration": null,
     "end_time": null,
     "exception": null,
     "start_time": null,
     "status": "pending"
    },
    "tags": []
   },
   "source": [
    "Run this cell if you'd like to see a plot of the result."
   ]
  },
  {
   "cell_type": "code",
   "execution_count": null,
   "id": "ca2dedac",
   "metadata": {
    "execution": {
     "iopub.execute_input": "2022-02-28T17:43:46.261071Z",
     "iopub.status.busy": "2022-02-28T17:43:46.260504Z",
     "iopub.status.idle": "2022-02-28T17:43:46.718950Z",
     "shell.execute_reply": "2022-02-28T17:43:46.717795Z",
     "shell.execute_reply.started": "2022-02-28T17:43:46.261031Z"
    },
    "papermill": {
     "duration": null,
     "end_time": null,
     "exception": null,
     "start_time": null,
     "status": "pending"
    },
    "tags": []
   },
   "outputs": [],
   "source": [
    "ax = y.plot(**plot_params, alpha=0.5)\n",
    "ax = y_pred.plot(ax=ax, linewidth=3)\n",
    "ax.set_title('Time Plot of Total Store Sales');"
   ]
  },
  {
   "cell_type": "markdown",
   "id": "b695d407",
   "metadata": {
    "papermill": {
     "duration": null,
     "end_time": null,
     "exception": null,
     "start_time": null,
     "status": "pending"
    },
    "tags": []
   },
   "source": [
    "-------------------------------------------------------------------------------\n",
    "\n",
    "# 4) Fit a lag feature to Store Sales\n",
    "\n",
    "Complete the code below to create a linear regression model with a lag feature on the series of average product sales. The target is in a column of `df` called `'sales'`."
   ]
  },
  {
   "cell_type": "code",
   "execution_count": null,
   "id": "9bef6c8f",
   "metadata": {
    "execution": {
     "iopub.execute_input": "2022-02-28T17:46:10.355393Z",
     "iopub.status.busy": "2022-02-28T17:46:10.354750Z",
     "iopub.status.idle": "2022-02-28T17:46:10.377870Z",
     "shell.execute_reply": "2022-02-28T17:46:10.377005Z",
     "shell.execute_reply.started": "2022-02-28T17:46:10.355351Z"
    },
    "papermill": {
     "duration": null,
     "end_time": null,
     "exception": null,
     "start_time": null,
     "status": "pending"
    },
    "tags": []
   },
   "outputs": [],
   "source": [
    "df = average_sales.to_frame()\n",
    "\n",
    "# YOUR CODE HERE: Create a lag feature from the target 'sales'\n",
    "lag_1 = df['sales'].shift(periods=1)\n",
    "\n",
    "df['lag_1'] = lag_1  # add to dataframe\n",
    "\n",
    "X = df.loc[:, ['lag_1']].dropna()  # features\n",
    "y = df.loc[:, 'sales']  # target\n",
    "y, X = y.align(X, join='inner')  # drop corresponding values in target\n",
    "\n",
    "# YOUR CODE HERE: Create a LinearRegression instance and fit it to X and y.\n",
    "model = LinearRegression()\n",
    "model.fit(X, y)\n",
    "\n",
    "# YOUR CODE HERE: Create Store the fitted values as a time series with\n",
    "# the same time index as the training data\n",
    "y_pred = pd.Series(model.predict(X), index=X.index)\n",
    "\n",
    "\n",
    "# Check your answer\n",
    "q_4.check()"
   ]
  },
  {
   "cell_type": "code",
   "execution_count": null,
   "id": "b74a1c30",
   "metadata": {
    "papermill": {
     "duration": null,
     "end_time": null,
     "exception": null,
     "start_time": null,
     "status": "pending"
    },
    "tags": []
   },
   "outputs": [],
   "source": [
    "# Lines below will give you a hint or solution code\n",
    "q_4.hint()\n",
    "q_4.solution()"
   ]
  },
  {
   "cell_type": "markdown",
   "id": "452ff6d2",
   "metadata": {
    "papermill": {
     "duration": null,
     "end_time": null,
     "exception": null,
     "start_time": null,
     "status": "pending"
    },
    "tags": []
   },
   "source": [
    "Run the next cell if you'd like to see the result."
   ]
  },
  {
   "cell_type": "code",
   "execution_count": null,
   "id": "46e00bf6",
   "metadata": {
    "execution": {
     "iopub.execute_input": "2022-02-28T17:46:15.014191Z",
     "iopub.status.busy": "2022-02-28T17:46:15.013892Z",
     "iopub.status.idle": "2022-02-28T17:46:15.232504Z",
     "shell.execute_reply": "2022-02-28T17:46:15.231351Z",
     "shell.execute_reply.started": "2022-02-28T17:46:15.014163Z"
    },
    "papermill": {
     "duration": null,
     "end_time": null,
     "exception": null,
     "start_time": null,
     "status": "pending"
    },
    "tags": []
   },
   "outputs": [],
   "source": [
    "fig, ax = plt.subplots()\n",
    "ax.plot(X['lag_1'], y, '.', color='0.25')\n",
    "ax.plot(X['lag_1'], y_pred)\n",
    "ax.set(aspect='equal', ylabel='sales', xlabel='lag_1', title='Lag Plot of Average Sales');"
   ]
  },
  {
   "cell_type": "markdown",
   "id": "06192e50",
   "metadata": {
    "papermill": {
     "duration": null,
     "end_time": null,
     "exception": null,
     "start_time": null,
     "status": "pending"
    },
    "tags": []
   },
   "source": [
    "# Keep Going #\n",
    "\n",
    "[**Model trend**](https://www.kaggle.com/ryanholbrook/trend) in time series with moving average plots and the time dummy."
   ]
  },
  {
   "cell_type": "markdown",
   "id": "1dc3d0b6",
   "metadata": {
    "papermill": {
     "duration": null,
     "end_time": null,
     "exception": null,
     "start_time": null,
     "status": "pending"
    },
    "tags": []
   },
   "source": [
    "---\n",
    "\n",
    "\n",
    "\n",
    "\n",
    "*Have questions or comments? Visit the [course discussion forum](https://www.kaggle.com/learn/time-series/discussion) to chat with other learners.*"
   ]
  }
 ],
 "metadata": {
  "kernelspec": {
   "display_name": "Python 3",
   "language": "python",
   "name": "python3"
  },
  "language_info": {
   "codemirror_mode": {
    "name": "ipython",
    "version": 3
   },
   "file_extension": ".py",
   "mimetype": "text/x-python",
   "name": "python",
   "nbconvert_exporter": "python",
   "pygments_lexer": "ipython3",
   "version": "3.7.12"
  },
  "papermill": {
   "default_parameters": {},
   "duration": 21.925788,
   "end_time": "2022-02-28T17:47:42.863888",
   "environment_variables": {},
   "exception": true,
   "input_path": "__notebook__.ipynb",
   "output_path": "__notebook__.ipynb",
   "parameters": {},
   "start_time": "2022-02-28T17:47:20.938100",
   "version": "2.3.3"
  }
 },
 "nbformat": 4,
 "nbformat_minor": 5
}
