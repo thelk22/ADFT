{
 "cells": [
  {
   "cell_type": "markdown",
   "metadata": {},
   "source": [
    "# Stationarity in Time Series Analysis\n",
    "\n",
    "### 2nd February 2022 created by Yan Ge"
   ]
  },
  {
   "cell_type": "markdown",
   "metadata": {},
   "source": [
    "In this Notebook, we will focus on:1) Time-series data transformation to stationarity; 2) Graph data exploration; 3) Stationarity in PageRank"
   ]
  },
  {
   "cell_type": "markdown",
   "metadata": {},
   "source": [
    "Sources of this tutorial: 1). https://en.wikipedia.org/wiki/PageRank; 2) https://networkx.org/"
   ]
  },
  {
   "cell_type": "markdown",
   "metadata": {},
   "source": [
    "### Time-series data transformation to stationarity\n",
    "\n",
    "You can achieve stationarity when you remove trend and seasonality. Stationarity of a times series is when you have constant mean and variance. "
   ]
  },
  {
   "cell_type": "code",
   "execution_count": 1,
   "metadata": {},
   "outputs": [],
   "source": [
    "import pandas as pd\n",
    "import matplotlib.pylab as plot\n",
    "from datetime import datetime"
   ]
  },
  {
   "cell_type": "code",
   "execution_count": 2,
   "metadata": {},
   "outputs": [
    {
     "data": {
      "text/html": [
       "<div>\n",
       "<style scoped>\n",
       "    .dataframe tbody tr th:only-of-type {\n",
       "        vertical-align: middle;\n",
       "    }\n",
       "\n",
       "    .dataframe tbody tr th {\n",
       "        vertical-align: top;\n",
       "    }\n",
       "\n",
       "    .dataframe thead th {\n",
       "        text-align: right;\n",
       "    }\n",
       "</style>\n",
       "<table border=\"1\" class=\"dataframe\">\n",
       "  <thead>\n",
       "    <tr style=\"text-align: right;\">\n",
       "      <th></th>\n",
       "      <th>Open</th>\n",
       "      <th>High</th>\n",
       "      <th>Low</th>\n",
       "      <th>Close</th>\n",
       "    </tr>\n",
       "    <tr>\n",
       "      <th>Date</th>\n",
       "      <th></th>\n",
       "      <th></th>\n",
       "      <th></th>\n",
       "      <th></th>\n",
       "    </tr>\n",
       "  </thead>\n",
       "  <tbody>\n",
       "    <tr>\n",
       "      <th>2020-12-28</th>\n",
       "      <td>133.990005</td>\n",
       "      <td>137.339996</td>\n",
       "      <td>133.509995</td>\n",
       "      <td>136.690002</td>\n",
       "    </tr>\n",
       "    <tr>\n",
       "      <th>2020-12-29</th>\n",
       "      <td>138.050003</td>\n",
       "      <td>138.789993</td>\n",
       "      <td>134.339996</td>\n",
       "      <td>134.869995</td>\n",
       "    </tr>\n",
       "    <tr>\n",
       "      <th>2020-12-30</th>\n",
       "      <td>135.580002</td>\n",
       "      <td>135.990005</td>\n",
       "      <td>133.399994</td>\n",
       "      <td>133.720001</td>\n",
       "    </tr>\n",
       "    <tr>\n",
       "      <th>2020-12-31</th>\n",
       "      <td>134.080002</td>\n",
       "      <td>134.740005</td>\n",
       "      <td>131.720001</td>\n",
       "      <td>132.690002</td>\n",
       "    </tr>\n",
       "    <tr>\n",
       "      <th>2021-01-04</th>\n",
       "      <td>133.520004</td>\n",
       "      <td>133.610001</td>\n",
       "      <td>126.760002</td>\n",
       "      <td>129.410004</td>\n",
       "    </tr>\n",
       "  </tbody>\n",
       "</table>\n",
       "</div>"
      ],
      "text/plain": [
       "                  Open        High         Low       Close\n",
       "Date                                                      \n",
       "2020-12-28  133.990005  137.339996  133.509995  136.690002\n",
       "2020-12-29  138.050003  138.789993  134.339996  134.869995\n",
       "2020-12-30  135.580002  135.990005  133.399994  133.720001\n",
       "2020-12-31  134.080002  134.740005  131.720001  132.690002\n",
       "2021-01-04  133.520004  133.610001  126.760002  129.410004"
      ]
     },
     "execution_count": 2,
     "metadata": {},
     "output_type": "execute_result"
    }
   ],
   "source": [
    "df = pd.read_csv('data/AAPL.csv', parse_dates=['Date'], index_col=['Date'], dayfirst=True)\n",
    "df.head()"
   ]
  },
  {
   "cell_type": "markdown",
   "metadata": {},
   "source": [
    "Differencing can help to reduce trend and seasonality. You can difference your data by subtraction. You subtract away the previous period from the current period. Below you will see that the first observation has a NaN because there was no previous period."
   ]
  },
  {
   "cell_type": "code",
   "execution_count": 3,
   "metadata": {},
   "outputs": [
    {
     "data": {
      "text/html": [
       "<div>\n",
       "<style scoped>\n",
       "    .dataframe tbody tr th:only-of-type {\n",
       "        vertical-align: middle;\n",
       "    }\n",
       "\n",
       "    .dataframe tbody tr th {\n",
       "        vertical-align: top;\n",
       "    }\n",
       "\n",
       "    .dataframe thead th {\n",
       "        text-align: right;\n",
       "    }\n",
       "</style>\n",
       "<table border=\"1\" class=\"dataframe\">\n",
       "  <thead>\n",
       "    <tr style=\"text-align: right;\">\n",
       "      <th></th>\n",
       "      <th>Open</th>\n",
       "      <th>High</th>\n",
       "      <th>Low</th>\n",
       "      <th>Close</th>\n",
       "      <th>Close_diff</th>\n",
       "    </tr>\n",
       "    <tr>\n",
       "      <th>Date</th>\n",
       "      <th></th>\n",
       "      <th></th>\n",
       "      <th></th>\n",
       "      <th></th>\n",
       "      <th></th>\n",
       "    </tr>\n",
       "  </thead>\n",
       "  <tbody>\n",
       "    <tr>\n",
       "      <th>2020-12-29</th>\n",
       "      <td>138.050003</td>\n",
       "      <td>138.789993</td>\n",
       "      <td>134.339996</td>\n",
       "      <td>134.869995</td>\n",
       "      <td>-1.820007</td>\n",
       "    </tr>\n",
       "    <tr>\n",
       "      <th>2020-12-30</th>\n",
       "      <td>135.580002</td>\n",
       "      <td>135.990005</td>\n",
       "      <td>133.399994</td>\n",
       "      <td>133.720001</td>\n",
       "      <td>-1.149994</td>\n",
       "    </tr>\n",
       "    <tr>\n",
       "      <th>2020-12-31</th>\n",
       "      <td>134.080002</td>\n",
       "      <td>134.740005</td>\n",
       "      <td>131.720001</td>\n",
       "      <td>132.690002</td>\n",
       "      <td>-1.029999</td>\n",
       "    </tr>\n",
       "    <tr>\n",
       "      <th>2021-01-04</th>\n",
       "      <td>133.520004</td>\n",
       "      <td>133.610001</td>\n",
       "      <td>126.760002</td>\n",
       "      <td>129.410004</td>\n",
       "      <td>-3.279998</td>\n",
       "    </tr>\n",
       "    <tr>\n",
       "      <th>2021-01-05</th>\n",
       "      <td>128.889999</td>\n",
       "      <td>131.740005</td>\n",
       "      <td>128.429993</td>\n",
       "      <td>131.009995</td>\n",
       "      <td>1.599991</td>\n",
       "    </tr>\n",
       "  </tbody>\n",
       "</table>\n",
       "</div>"
      ],
      "text/plain": [
       "                  Open        High         Low       Close  Close_diff\n",
       "Date                                                                  \n",
       "2020-12-29  138.050003  138.789993  134.339996  134.869995   -1.820007\n",
       "2020-12-30  135.580002  135.990005  133.399994  133.720001   -1.149994\n",
       "2020-12-31  134.080002  134.740005  131.720001  132.690002   -1.029999\n",
       "2021-01-04  133.520004  133.610001  126.760002  129.410004   -3.279998\n",
       "2021-01-05  128.889999  131.740005  128.429993  131.009995    1.599991"
      ]
     },
     "execution_count": 3,
     "metadata": {},
     "output_type": "execute_result"
    }
   ],
   "source": [
    "# Take first difference\n",
    "df['Close_diff'] = df['Close'].diff()\n",
    "\n",
    "# Remove the first data point\n",
    "df.dropna(inplace=True)\n",
    "\n",
    "# # Take a look at the head of the dataset\n",
    "df.head()"
   ]
  },
  {
   "cell_type": "code",
   "execution_count": 4,
   "metadata": {},
   "outputs": [
    {
     "data": {
      "text/plain": [
       "<AxesSubplot:xlabel='Date'>"
      ]
     },
     "execution_count": 4,
     "metadata": {},
     "output_type": "execute_result"
    },
    {
     "data": {
      "image/png": "[encoded data removed]",
      "text/plain": [
       "<Figure size 432x288 with 1 Axes>"
      ]
     },
     "metadata": {
      "needs_background": "light"
     },
     "output_type": "display_data"
    }
   ],
   "source": [
    "df['Close_diff'].plot()"
   ]
  },
  {
   "cell_type": "markdown",
   "metadata": {},
   "source": [
    "### Introduction to graph exploration with NetworkX\n",
    "\n",
    "NetworkX is a Python language software package for the creation, manipulation, and study of the structure, dynamics, and function of complex networks.\n",
    "\n",
    "With NetworkX you can load and store networks in standard and nonstandard data formats, generate many types of random and classic networks, analyze network structure, build network models, design new network algorithms, draw networks, and much more. The Networkx tutorial is available here: https://networkx.org/documentation/stable/tutorial.html."
   ]
  },
  {
   "cell_type": "markdown",
   "metadata": {},
   "source": [
    "Create an empty graph with no nodes and no edges."
   ]
  },
  {
   "cell_type": "code",
   "execution_count": 5,
   "metadata": {},
   "outputs": [],
   "source": [
    "import networkx as nx\n",
    "G = nx.Graph()"
   ]
  },
  {
   "cell_type": "markdown",
   "metadata": {},
   "source": [
    "By definition, a Graph is a collection of nodes (vertices) along with identified pairs of nodes (called edges, links, etc). "
   ]
  },
  {
   "cell_type": "markdown",
   "metadata": {},
   "source": [
    "# Nodes\n",
    "\n",
    "The graph `G` can be grown in several ways.  NetworkX includes many graph\n",
    "generator functions and facilities to read and write graphs in many formats.\n",
    "To get started though we’ll look at simple manipulations."
   ]
  },
  {
   "cell_type": "code",
   "execution_count": 6,
   "metadata": {},
   "outputs": [],
   "source": [
    "# You can add one node at a time\n",
    "G.add_node(1)"
   ]
  },
  {
   "cell_type": "code",
   "execution_count": 7,
   "metadata": {},
   "outputs": [],
   "source": [
    "# or add nodes from any [iterable](https://docs.python.org/3/glossary.html#term-iterable) container, such as a list\n",
    "G.add_nodes_from([2, 3])"
   ]
  },
  {
   "cell_type": "markdown",
   "metadata": {},
   "source": [
    "Nodes from one graph can be incorporated into another:"
   ]
  },
  {
   "cell_type": "code",
   "execution_count": 8,
   "metadata": {},
   "outputs": [],
   "source": [
    "H = nx.path_graph(10)\n",
    "G.add_nodes_from(H)"
   ]
  },
  {
   "cell_type": "markdown",
   "metadata": {},
   "source": [
    "`G` now contains the nodes of `H` as nodes of `G`.\n",
    "In contrast, you could use the graph `H` as a node in `G`."
   ]
  },
  {
   "cell_type": "code",
   "execution_count": 9,
   "metadata": {},
   "outputs": [],
   "source": [
    "G.add_node(H)"
   ]
  },
  {
   "cell_type": "markdown",
   "metadata": {},
   "source": [
    "The graph `G` now contains `H` as a node.  This flexibility is very powerful as\n",
    "it allows graphs of graphs, graphs of files, graphs of functions and much more.\n",
    "It is worth thinking about how to structure your application so that the nodes\n",
    "are useful entities.  Of course you can always use a unique identifier in `G`\n",
    "and have a separate dictionary keyed by identifier to the node information if\n",
    "you prefer.\n",
    "\n",
    "# Edges\n",
    "\n",
    "`G` can also be grown by adding one edge at a time,"
   ]
  },
  {
   "cell_type": "code",
   "execution_count": 10,
   "metadata": {},
   "outputs": [],
   "source": [
    "G.add_edge(1, 2)\n",
    "e = (2, 3)\n",
    "G.add_edge(*e)  # unpack edge tuple*"
   ]
  },
  {
   "cell_type": "markdown",
   "metadata": {},
   "source": [
    "by adding a list of edges"
   ]
  },
  {
   "cell_type": "code",
   "execution_count": 11,
   "metadata": {},
   "outputs": [],
   "source": [
    "G.add_edges_from([(1, 2), (1, 3)])"
   ]
  },
  {
   "cell_type": "markdown",
   "metadata": {},
   "source": [
    "or by adding any ebunch of edges.  An *ebunch* is any iterable\n",
    "container of edge-tuples.  An edge-tuple can be a 2-tuple of nodes or a 3-tuple\n",
    "with 2 nodes followed by an edge attribute dictionary, e.g.,\n",
    "`(2, 3, {'weight': 3.1415})`.  Edge attributes are discussed further\n",
    "below."
   ]
  },
  {
   "cell_type": "code",
   "execution_count": 12,
   "metadata": {},
   "outputs": [],
   "source": [
    "G.add_edges_from(H.edges)"
   ]
  },
  {
   "cell_type": "code",
   "execution_count": 13,
   "metadata": {},
   "outputs": [
    {
     "name": "stdout",
     "output_type": "stream",
     "text": [
      "Graph with 11 nodes and 10 edges\n"
     ]
    },
    {
     "data": {
      "image/png": "[encoded data removed]",
      "text/plain": [
       "<Figure size 432x288 with 1 Axes>"
      ]
     },
     "metadata": {},
     "output_type": "display_data"
    }
   ],
   "source": [
    "print(nx.info(G))\n",
    "nx.draw(G)"
   ]
  },
  {
   "cell_type": "markdown",
   "metadata": {},
   "source": [
    "# Case Study: Network of American football games"
   ]
  },
  {
   "cell_type": "code",
   "execution_count": 14,
   "metadata": {},
   "outputs": [
    {
     "name": "stdout",
     "output_type": "stream",
     "text": [
      "The file football.gml contains the network of American football games\n",
      "between Division IA colleges during regular season Fall 2000, as compiled\n",
      "by M. Girvan and M. Newman.  The nodes have values that indicate to which\n",
      "conferences they belong.  The values are as follows:\n",
      "\n",
      "  0 = Atlantic Coast\n",
      "  1 = Big East\n",
      "  2 = Big Ten\n",
      "  3 = Big Twelve\n",
      "  4 = Conference USA\n",
      "  5 = Independents\n",
      "  6 = Mid-American\n",
      "  7 = Mountain West\n",
      "  8 = Pacific Ten\n",
      "  9 = Southeastern\n",
      " 10 = Sun Belt\n",
      " 11 = Western Athletic\n",
      "\n",
      "If you make use of these data, please cite M. Girvan and M. E. J. Newman,\n",
      "Community structure in social and biological networks,\n",
      "Proc. Natl. Acad. Sci. USA 99, 7821-7826 (2002).\n",
      "\n",
      "Correction: Two edges were erroneously duplicated in this data set, and\n",
      "have been removed (21 SEP 2014)\n",
      "\n",
      "BrighamYoung         12\n",
      "FloridaState         12\n",
      "Iowa                 12\n",
      "KansasState          12\n",
      "NewMexico            11\n",
      "TexasTech            12\n",
      "PennState            12\n",
      "SouthernCalifornia   12\n",
      "ArizonaState         11\n",
      "SanDiegoState        11\n",
      "Baylor               10\n",
      "NorthTexas           10\n",
      "NorthernIllinois     10\n",
      "Northwestern         11\n",
      "WesternMichigan      10\n",
      "Wisconsin            12\n",
      "Wyoming              11\n",
      "Auburn               11\n",
      "Akron                11\n",
      "VirginiaTech         11\n",
      "Alabama              11\n",
      "UCLA                 11\n",
      "Arizona              11\n",
      "Utah                 11\n",
      "ArkansasState        10\n",
      "NorthCarolinaState   11\n",
      "BallState            10\n",
      "Florida              11\n",
      "BoiseState            9\n",
      "BostonCollege        11\n",
      "WestVirginia         11\n",
      "BowlingGreenState    11\n",
      "Michigan             11\n",
      "Virginia             10\n",
      "Buffalo              11\n",
      "Syracuse             11\n",
      "CentralFlorida        8\n",
      "GeorgiaTech          11\n",
      "CentralMichigan      11\n",
      "Purdue               11\n",
      "Colorado             11\n",
      "ColoradoState        10\n",
      "Connecticut           7\n",
      "EasternMichigan      11\n",
      "EastCarolina         11\n",
      "Duke                 11\n",
      "FresnoState          11\n",
      "OhioState            11\n",
      "Houston              11\n",
      "Rice                 11\n",
      "Idaho                 9\n",
      "Washington           11\n",
      "Kansas               10\n",
      "SouthernMethodist    12\n",
      "Kent                 10\n",
      "Pittsburgh           11\n",
      "Kentucky             10\n",
      "Louisville           10\n",
      "LouisianaTech        10\n",
      "LouisianaMonroe       8\n",
      "Minnesota            11\n",
      "MiamiOhio            11\n",
      "Vanderbilt           11\n",
      "MiddleTennesseeState  9\n",
      "Illinois             11\n",
      "MississippiState     11\n",
      "Memphis              11\n",
      "Nevada               12\n",
      "Oregon               11\n",
      "NewMexicoState       11\n",
      "SouthCarolina        11\n",
      "Ohio                 10\n",
      "IowaState            11\n",
      "SanJoseState         11\n",
      "Nebraska             11\n",
      "SouthernMississippi  10\n",
      "Tennessee            11\n",
      "Stanford             11\n",
      "WashingtonState      11\n",
      "Temple               11\n",
      "Navy                 11\n",
      "TexasA&M             11\n",
      "NotreDame            11\n",
      "TexasElPaso          11\n",
      "Oklahoma             11\n",
      "Toledo                9\n",
      "Tulane               11\n",
      "Mississippi          11\n",
      "Tulsa                12\n",
      "NorthCarolina        11\n",
      "UtahState             9\n",
      "Army                 11\n",
      "Cincinnati           11\n",
      "AirForce             10\n",
      "Rutgers              10\n",
      "Georgia              10\n",
      "LouisianaState       10\n",
      "LouisianaLafayette    8\n",
      "Texas                11\n",
      "Marshall             10\n",
      "MichiganState        11\n",
      "MiamiFlorida         10\n",
      "Missouri             10\n",
      "Clemson              10\n",
      "NevadaLasVegas       12\n",
      "WakeForest           10\n",
      "Indiana              11\n",
      "OklahomaState        10\n",
      "OregonState          10\n",
      "Maryland             11\n",
      "TexasChristian       11\n",
      "California           11\n",
      "AlabamaBirmingham    10\n",
      "Arkansas             10\n",
      "Hawaii               11\n"
     ]
    },
    {
     "data": {
      "image/png": "[encoded data removed]",
      "text/plain": [
       "<Figure size 432x288 with 1 Axes>"
      ]
     },
     "metadata": {},
     "output_type": "display_data"
    }
   ],
   "source": [
    "import urllib.request\n",
    "import io\n",
    "import zipfile\n",
    "\n",
    "import matplotlib.pyplot as plt\n",
    "import networkx as nx\n",
    "\n",
    "url = \"http://www-personal.umich.edu/~mejn/netdata/football.zip\"\n",
    "\n",
    "sock = urllib.request.urlopen(url)  # open URL\n",
    "s = io.BytesIO(sock.read())  # read into BytesIO \"file\"\n",
    "sock.close()\n",
    "\n",
    "zf = zipfile.ZipFile(s)  # zipfile object\n",
    "txt = zf.read(\"football.txt\").decode()  # read info file\n",
    "gml = zf.read(\"football.gml\").decode()  # read gml data\n",
    "# throw away bogus first line with # from mejn files\n",
    "gml = gml.split(\"\\n\")[1:]\n",
    "G = nx.parse_gml(gml)  # parse gml data\n",
    "\n",
    "print(txt)\n",
    "# print degree for each team - number of games\n",
    "for n, d in G.degree():\n",
    "    print(f\"{n:20} {d:2}\")\n",
    "\n",
    "options = {\n",
    "    \"node_color\": \"blue\",\n",
    "    \"node_size\": 50,\n",
    "    \"linewidths\": 0,\n",
    "    \"width\": 0.1,\n",
    "}\n",
    "\n",
    "pos = nx.spring_layout(G, seed=1969)  # Seed for reproducible layout\n",
    "nx.draw(G, pos, **options)\n",
    "plt.show()"
   ]
  },
  {
   "cell_type": "markdown",
   "metadata": {},
   "source": [
    "# Stationarity in PageRank"
   ]
  },
  {
   "cell_type": "code",
   "execution_count": 15,
   "metadata": {},
   "outputs": [
    {
     "data": {
      "text/html": [
       "<img src=\"http://upload.wikimedia.org/wikipedia/commons/f/fb/PageRanks-Example.svg\"/>"
      ],
      "text/plain": [
       "<IPython.core.display.Image object>"
      ]
     },
     "execution_count": 15,
     "metadata": {},
     "output_type": "execute_result"
    }
   ],
   "source": [
    "from IPython.display import Image\n",
    "import numpy as np\n",
    "Image(url='http://upload.wikimedia.org/wikipedia/commons/f/fb/PageRanks-Example.svg')"
   ]
  },
  {
   "cell_type": "markdown",
   "metadata": {},
   "source": [
    "First, we will encode the links present on this graph as a count matrix `M_counts`."
   ]
  },
  {
   "cell_type": "code",
   "execution_count": 16,
   "metadata": {},
   "outputs": [
    {
     "name": "stdout",
     "output_type": "stream",
     "text": [
      "[[1. 0. 0. 1. 0. 0. 0. 0. 0. 0. 0.]\n",
      " [1. 0. 1. 1. 1. 1. 1. 1. 1. 0. 0.]\n",
      " [1. 1. 0. 0. 0. 0. 0. 0. 0. 0. 0.]\n",
      " [1. 0. 0. 0. 1. 0. 0. 0. 0. 0. 0.]\n",
      " [1. 0. 0. 0. 0. 1. 1. 1. 1. 1. 1.]\n",
      " [1. 0. 0. 0. 1. 0. 0. 0. 0. 0. 0.]\n",
      " [1. 0. 0. 0. 0. 0. 0. 0. 0. 0. 0.]\n",
      " [1. 0. 0. 0. 0. 0. 0. 0. 0. 0. 0.]\n",
      " [1. 0. 0. 0. 0. 0. 0. 0. 0. 0. 0.]\n",
      " [1. 0. 0. 0. 0. 0. 0. 0. 0. 0. 0.]\n",
      " [1. 0. 0. 0. 0. 0. 0. 0. 0. 0. 0.]]\n"
     ]
    }
   ],
   "source": [
    "n_pages = 11 # numbering pages A through K as 0 to 10\n",
    "M_counts = np.zeros((n_pages, n_pages)) # will hold the number of link counts (assumed 0 or 1)\n",
    "# columns = starting page, row = destination page, ie M_ij = whether or not there is a link from j to i\n",
    "\n",
    "M_counts[:,0] = 1 # page 0 (A in the graphic) is a sink because it has no outgoing links at all; \n",
    "# however, M cannot contain an all-zero column, so do as if A was linking to all other pages (ie put 1's everywhere)\n",
    "M_counts[2,1] = 1 # B->C\n",
    "M_counts[1,2] = 1 # C->B\n",
    "M_counts[0,3] = 1 # D->A\n",
    "M_counts[1,3] = 1 # D->B\n",
    "M_counts[1,4] = 1 # E->B\n",
    "M_counts[3,4] = 1 # E->D\n",
    "M_counts[5,4] = 1 # E->F\n",
    "M_counts[1,5] = 1 # F->B\n",
    "M_counts[4,5] = 1 # F->E\n",
    "M_counts[1,6] = 1 # G,H,I->B,E\n",
    "M_counts[4,6] = 1\n",
    "M_counts[1,7] = 1\n",
    "M_counts[4,7] = 1\n",
    "M_counts[1,8] = 1\n",
    "M_counts[4,8] = 1\n",
    "M_counts[4,9] = 1 # J,K->E\n",
    "M_counts[4,10] = 1\n",
    "print(M_counts)"
   ]
  },
  {
   "cell_type": "code",
   "execution_count": 17,
   "metadata": {},
   "outputs": [
    {
     "name": "stdout",
     "output_type": "stream",
     "text": [
      "[[0.091 0.    0.    0.5   0.    0.    0.    0.    0.    0.    0.   ]\n",
      " [0.091 0.    1.    0.5   0.333 0.5   0.5   0.5   0.5   0.    0.   ]\n",
      " [0.091 1.    0.    0.    0.    0.    0.    0.    0.    0.    0.   ]\n",
      " [0.091 0.    0.    0.    0.333 0.    0.    0.    0.    0.    0.   ]\n",
      " [0.091 0.    0.    0.    0.    0.5   0.5   0.5   0.5   1.    1.   ]\n",
      " [0.091 0.    0.    0.    0.333 0.    0.    0.    0.    0.    0.   ]\n",
      " [0.091 0.    0.    0.    0.    0.    0.    0.    0.    0.    0.   ]\n",
      " [0.091 0.    0.    0.    0.    0.    0.    0.    0.    0.    0.   ]\n",
      " [0.091 0.    0.    0.    0.    0.    0.    0.    0.    0.    0.   ]\n",
      " [0.091 0.    0.    0.    0.    0.    0.    0.    0.    0.    0.   ]\n",
      " [0.091 0.    0.    0.    0.    0.    0.    0.    0.    0.    0.   ]]\n"
     ]
    }
   ],
   "source": [
    "# make an adjacency matrix M out of M_counts, by dividing each column by its sum, ie we are making sure columns sum to 1 :\n",
    "M = np.empty((n_pages, n_pages))\n",
    "for j in range(n_pages):\n",
    "    M[:,j] = M_counts[:,j] / M_counts[:,j].sum()\n",
    "np.set_printoptions(precision=3)\n",
    "print(M)"
   ]
  },
  {
   "cell_type": "code",
   "execution_count": 18,
   "metadata": {},
   "outputs": [],
   "source": [
    "import numpy as np\n",
    "def pagerank(M, d=0.85, square_error=1e-6):\n",
    "    \"\"\"\n",
    "    M : the adjacency matrix of the pages. It is assumed to be column-stochastic (ie column sum to 1); all links have equal weight.\n",
    "    A page with no outgoing links (sink) is represented as a page with outgoing links to each other page (ie restart page).\n",
    "    d: damping factor\n",
    "    square_error : the algorithm iterates until the difference between two successive PageRank vectors v is less than this (in squared norm)\n",
    "    returns the PageRanks of all pages\n",
    "    \"\"\"\n",
    "    n_pages = M.shape[0] # n_pages is the number of rows of M\n",
    "    v = np.random.rand(n_pages) # initialize to random vector\n",
    "    v = v / v.sum() # make v sum to 1\n",
    "    last_v = np.ones((n_pages)) # will contain the previous v\n",
    "    M_hat = d * M + (1-d)/n_pages * np.ones((n_pages, n_pages)) # equation (***) in Wikipedia page\n",
    "    while np.square(v - last_v).sum() > square_error:\n",
    "        last_v = v\n",
    "        v = M_hat.dot(v) # at each iteration, progress one timestep\n",
    "        print(v)\n",
    "    return v"
   ]
  },
  {
   "cell_type": "code",
   "execution_count": 19,
   "metadata": {},
   "outputs": [
    {
     "name": "stdout",
     "output_type": "stream",
     "text": [
      "[0.065 0.399 0.043 0.046 0.317 0.046 0.017 0.017 0.017 0.017 0.017]\n",
      "[0.038 0.206 0.358 0.109 0.088 0.109 0.019 0.019 0.019 0.019 0.019]\n",
      "[0.063 0.462 0.191 0.042 0.118 0.042 0.017 0.017 0.017 0.017 0.017]\n",
      "[0.036 0.271 0.411 0.052 0.085 0.052 0.018 0.018 0.018 0.018 0.018]\n",
      "[0.039 0.458 0.247 0.041 0.093 0.041 0.016 0.016 0.016 0.016 0.016]\n",
      "[0.034 0.308 0.406 0.043 0.083 0.043 0.017 0.017 0.017 0.017 0.017]\n",
      "[0.035 0.442 0.278 0.04  0.084 0.04  0.016 0.016 0.016 0.016 0.016]\n",
      "[0.033 0.331 0.392 0.04  0.082 0.04  0.016 0.016 0.016 0.016 0.016]\n",
      "[0.033 0.428 0.298 0.039 0.082 0.039 0.016 0.016 0.016 0.016 0.016]\n",
      "[0.033 0.346 0.38  0.039 0.081 0.039 0.016 0.016 0.016 0.016 0.016]\n",
      "[0.033 0.416 0.311 0.039 0.081 0.039 0.016 0.016 0.016 0.016 0.016]\n",
      "[0.033 0.357 0.37  0.039 0.081 0.039 0.016 0.016 0.016 0.016 0.016]\n",
      "[0.033 0.407 0.32  0.039 0.081 0.039 0.016 0.016 0.016 0.016 0.016]\n",
      "[0.033 0.365 0.362 0.039 0.081 0.039 0.016 0.016 0.016 0.016 0.016]\n",
      "[0.033 0.401 0.326 0.039 0.081 0.039 0.016 0.016 0.016 0.016 0.016]\n",
      "[0.033 0.37  0.357 0.039 0.081 0.039 0.016 0.016 0.016 0.016 0.016]\n",
      "[0.033 0.396 0.331 0.039 0.081 0.039 0.016 0.016 0.016 0.016 0.016]\n",
      "[0.033 0.374 0.353 0.039 0.081 0.039 0.016 0.016 0.016 0.016 0.016]\n",
      "[0.033 0.393 0.334 0.039 0.081 0.039 0.016 0.016 0.016 0.016 0.016]\n",
      "[0.033 0.377 0.35  0.039 0.081 0.039 0.016 0.016 0.016 0.016 0.016]\n",
      "[0.033 0.391 0.337 0.039 0.081 0.039 0.016 0.016 0.016 0.016 0.016]\n",
      "[0.033 0.379 0.348 0.039 0.081 0.039 0.016 0.016 0.016 0.016 0.016]\n",
      "[0.033 0.389 0.338 0.039 0.081 0.039 0.016 0.016 0.016 0.016 0.016]\n",
      "[0.033 0.381 0.347 0.039 0.081 0.039 0.016 0.016 0.016 0.016 0.016]\n",
      "[0.033 0.388 0.34  0.039 0.081 0.039 0.016 0.016 0.016 0.016 0.016]\n",
      "[0.033 0.382 0.346 0.039 0.081 0.039 0.016 0.016 0.016 0.016 0.016]\n",
      "[0.033 0.387 0.341 0.039 0.081 0.039 0.016 0.016 0.016 0.016 0.016]\n",
      "[0.033 0.382 0.345 0.039 0.081 0.039 0.016 0.016 0.016 0.016 0.016]\n",
      "[0.033 0.386 0.341 0.039 0.081 0.039 0.016 0.016 0.016 0.016 0.016]\n",
      "[0.033 0.383 0.344 0.039 0.081 0.039 0.016 0.016 0.016 0.016 0.016]\n",
      "[0.033 0.386 0.342 0.039 0.081 0.039 0.016 0.016 0.016 0.016 0.016]\n",
      "[0.033 0.383 0.344 0.039 0.081 0.039 0.016 0.016 0.016 0.016 0.016]\n",
      "[0.033 0.385 0.342 0.039 0.081 0.039 0.016 0.016 0.016 0.016 0.016]\n",
      "[0.033 0.384 0.344 0.039 0.081 0.039 0.016 0.016 0.016 0.016 0.016]\n",
      "[0.033 0.385 0.342 0.039 0.081 0.039 0.016 0.016 0.016 0.016 0.016]\n",
      "[0.033 0.384 0.343 0.039 0.081 0.039 0.016 0.016 0.016 0.016 0.016]\n",
      "[0.033 0.385 0.342 0.039 0.081 0.039 0.016 0.016 0.016 0.016 0.016]\n",
      "[0.033 0.384 0.343 0.039 0.081 0.039 0.016 0.016 0.016 0.016 0.016]\n",
      "[0.033 0.385 0.343 0.039 0.081 0.039 0.016 0.016 0.016 0.016 0.016]\n",
      "[0.033 0.384 0.343 0.039 0.081 0.039 0.016 0.016 0.016 0.016 0.016]\n"
     ]
    },
    {
     "data": {
      "text/plain": [
       "array([0.033, 0.384, 0.343, 0.039, 0.081, 0.039, 0.016, 0.016, 0.016,\n",
       "       0.016, 0.016])"
      ]
     },
     "execution_count": 19,
     "metadata": {},
     "output_type": "execute_result"
    }
   ],
   "source": [
    "pagerank(M)"
   ]
  },
  {
   "cell_type": "code",
   "execution_count": null,
   "metadata": {},
   "outputs": [],
   "source": []
  }
 ],
 "metadata": {
  "anaconda-cloud": {},
  "kernelspec": {
   "display_name": "Python 3 (ipykernel)",
   "language": "python",
   "name": "python3"
  },
  "language_info": {
   "codemirror_mode": {
    "name": "ipython",
    "version": 3
   },
   "file_extension": ".py",
   "mimetype": "text/x-python",
   "name": "python",
   "nbconvert_exporter": "python",
   "pygments_lexer": "ipython3",
   "version": "3.8.2"
  }
 },
 "nbformat": 4,
 "nbformat_minor": 1
}
