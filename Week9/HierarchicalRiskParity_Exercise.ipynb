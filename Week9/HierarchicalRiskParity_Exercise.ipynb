{
 "cells": [
  {
   "cell_type": "markdown",
   "metadata": {
    "_cell_guid": "83708667-4fdc-1563-7b3a-06b6575d2865"
   },
   "source": [
    "In this case study, we will implement hierarchical risk parity based on clustering\n",
    "methods and compare it against other portfolio allocation methods. The case study is based on the paper _“Building Diversified Portfolios that Outperform Out-ofSample” (2016) by Marcos Lopez de Prado._ \n",
    "\n"
   ]
  },
  {
   "cell_type": "markdown",
   "metadata": {},
   "source": [
    "## Content"
   ]
  },
  {
   "cell_type": "markdown",
   "metadata": {},
   "source": [
    "* [1. Problem Definition](#0)\n",
    "* [2. Getting Started - Load Libraries and Dataset](#1)\n",
    "    * [2.1. Load Libraries](#1.1)    \n",
    "    * [2.2. Load Dataset](#1.2)\n",
    "* [3. Exploratory Data Analysis](#2)\n",
    "    * [3.1 Descriptive Statistics](#2.1)    \n",
    "    * [3.2. Data Visualisation](#2.2)\n",
    "* [4. Data Preparation](#3)\n",
    "    * [4.1 Data Cleaning](#3.1)\n",
    "    * [4.3.Data Transformation](#3.2)  \n",
    "* [5.Evaluate Algorithms and Models](#4)        \n",
    "    * [5.1. Building Hierarchy Graph/ Dendogramg](#4.1)\n",
    "    * [5.2. Steps for Hierarchial Risk Parity](#4.2)\n",
    "* [6.Backtesting-Out Of Sample ](#5)  "
   ]
  },
  {
   "cell_type": "markdown",
   "metadata": {},
   "source": [
    "<a id='0'></a>\n",
    "# 1. Problem Definition"
   ]
  },
  {
   "cell_type": "markdown",
   "metadata": {},
   "source": [
    "The main idea of the risk parity strategy is that all assets in the portfolio contribute in the same proportion to the risk of the portfolio. That is, depending on their own risk, the weight in the portfolio is set [1]."
   ]
  },
  {
   "cell_type": "markdown",
   "metadata": {},
   "source": [
    "<a id='1'></a>\n",
    "# 2. Getting Started- Loading the data and python packages"
   ]
  },
  {
   "cell_type": "markdown",
   "metadata": {},
   "source": [
    "<a id='1.1'></a>\n",
    "## 2.1. Loading the python packages"
   ]
  },
  {
   "cell_type": "markdown",
   "metadata": {},
   "source": [
    "Checking is the additional packages needed are present, if not install them. Let us chek is the cvxopt package is present, if not install it. This package is checked separately as it is not included in requirement.txt of this book repository."
   ]
  },
  {
   "cell_type": "code",
   "execution_count": 1,
   "metadata": {},
   "outputs": [],
   "source": [
    "import pkg_resources\n",
    "import pip\n",
    "installedPackages = {pkg.key for pkg in pkg_resources.working_set}\n",
    "if 'cvxopt' not in installedPackages :\n",
    "    !pip install cvxopt==1.2.5"
   ]
  },
  {
   "cell_type": "code",
   "execution_count": 2,
   "metadata": {
    "_cell_guid": "5d8fee34-f454-2642-8b06-ed719f0317e1"
   },
   "outputs": [],
   "source": [
    "# Load libraries\n",
    "import numpy as np\n",
    "import pandas as pd\n",
    "import matplotlib.pyplot as plt\n",
    "from pandas import read_csv, set_option\n",
    "from pandas.plotting import scatter_matrix\n",
    "import seaborn as sns\n",
    "from sklearn.preprocessing import StandardScaler\n",
    "from datetime import date\n",
    "\n",
    "#Import Model Packages \n",
    "import scipy.cluster.hierarchy as sch\n",
    "from sklearn.cluster import AgglomerativeClustering\n",
    "from scipy.cluster.hierarchy import fcluster\n",
    "from scipy.cluster.hierarchy import dendrogram, linkage, cophenet\n",
    "from sklearn.metrics import adjusted_mutual_info_score\n",
    "from sklearn import cluster, covariance, manifold\n",
    "\n",
    "#Package for optimization of mean variance optimization\n",
    "import cvxopt as opt\n",
    "from cvxopt import blas, solvers"
   ]
  },
  {
   "cell_type": "markdown",
   "metadata": {},
   "source": [
    "<a id='1.2'></a>\n",
    "## 2.2. Loading the Data"
   ]
  },
  {
   "cell_type": "code",
   "execution_count": 3,
   "metadata": {},
   "outputs": [],
   "source": [
    "# load dataset\n",
    "dataset = read_csv('SP500Data_2018.csv',index_col=0)"
   ]
  },
  {
   "cell_type": "code",
   "execution_count": 4,
   "metadata": {},
   "outputs": [],
   "source": [
    "#Diable the warnings\n",
    "import warnings\n",
    "warnings.filterwarnings('ignore')"
   ]
  },
  {
   "cell_type": "code",
   "execution_count": 5,
   "metadata": {},
   "outputs": [
    {
     "data": {
      "text/plain": [
       "pandas.core.frame.DataFrame"
      ]
     },
     "execution_count": 5,
     "metadata": {},
     "output_type": "execute_result"
    }
   ],
   "source": [
    "type(dataset)"
   ]
  },
  {
   "cell_type": "code",
   "execution_count": 6,
   "metadata": {},
   "outputs": [
    {
     "data": {
      "text/html": [
       "<div>\n",
       "<style scoped>\n",
       "    .dataframe tbody tr th:only-of-type {\n",
       "        vertical-align: middle;\n",
       "    }\n",
       "\n",
       "    .dataframe tbody tr th {\n",
       "        vertical-align: top;\n",
       "    }\n",
       "\n",
       "    .dataframe thead th {\n",
       "        text-align: right;\n",
       "    }\n",
       "</style>\n",
       "<table border=\"1\" class=\"dataframe\">\n",
       "  <thead>\n",
       "    <tr style=\"text-align: right;\">\n",
       "      <th></th>\n",
       "      <th>ABT</th>\n",
       "      <th>ABBV</th>\n",
       "      <th>ABMD</th>\n",
       "      <th>ACN</th>\n",
       "      <th>ATVI</th>\n",
       "      <th>ADBE</th>\n",
       "      <th>AMD</th>\n",
       "      <th>AAP</th>\n",
       "      <th>AES</th>\n",
       "      <th>AMG</th>\n",
       "      <th>...</th>\n",
       "      <th>WLTW</th>\n",
       "      <th>WYNN</th>\n",
       "      <th>XEL</th>\n",
       "      <th>XRX</th>\n",
       "      <th>XLNX</th>\n",
       "      <th>XYL</th>\n",
       "      <th>YUM</th>\n",
       "      <th>ZBH</th>\n",
       "      <th>ZION</th>\n",
       "      <th>ZTS</th>\n",
       "    </tr>\n",
       "    <tr>\n",
       "      <th>Date</th>\n",
       "      <th></th>\n",
       "      <th></th>\n",
       "      <th></th>\n",
       "      <th></th>\n",
       "      <th></th>\n",
       "      <th></th>\n",
       "      <th></th>\n",
       "      <th></th>\n",
       "      <th></th>\n",
       "      <th></th>\n",
       "      <th></th>\n",
       "      <th></th>\n",
       "      <th></th>\n",
       "      <th></th>\n",
       "      <th></th>\n",
       "      <th></th>\n",
       "      <th></th>\n",
       "      <th></th>\n",
       "      <th></th>\n",
       "      <th></th>\n",
       "      <th></th>\n",
       "    </tr>\n",
       "  </thead>\n",
       "  <tbody>\n",
       "    <tr>\n",
       "      <th>02/01/2018</th>\n",
       "      <td>58.790001</td>\n",
       "      <td>98.410004</td>\n",
       "      <td>192.490005</td>\n",
       "      <td>153.839996</td>\n",
       "      <td>64.309998</td>\n",
       "      <td>177.699997</td>\n",
       "      <td>10.98</td>\n",
       "      <td>106.089996</td>\n",
       "      <td>10.88</td>\n",
       "      <td>203.039993</td>\n",
       "      <td>...</td>\n",
       "      <td>146.990005</td>\n",
       "      <td>164.300003</td>\n",
       "      <td>47.810001</td>\n",
       "      <td>29.370001</td>\n",
       "      <td>67.879997</td>\n",
       "      <td>68.070000</td>\n",
       "      <td>81.599998</td>\n",
       "      <td>124.059998</td>\n",
       "      <td>50.700001</td>\n",
       "      <td>71.769997</td>\n",
       "    </tr>\n",
       "    <tr>\n",
       "      <th>03/01/2018</th>\n",
       "      <td>58.919998</td>\n",
       "      <td>99.949997</td>\n",
       "      <td>195.820007</td>\n",
       "      <td>154.550003</td>\n",
       "      <td>65.309998</td>\n",
       "      <td>181.039993</td>\n",
       "      <td>11.55</td>\n",
       "      <td>107.050003</td>\n",
       "      <td>10.87</td>\n",
       "      <td>202.119995</td>\n",
       "      <td>...</td>\n",
       "      <td>149.740005</td>\n",
       "      <td>162.520004</td>\n",
       "      <td>47.490002</td>\n",
       "      <td>29.330000</td>\n",
       "      <td>69.239998</td>\n",
       "      <td>68.900002</td>\n",
       "      <td>81.529999</td>\n",
       "      <td>124.919998</td>\n",
       "      <td>50.639999</td>\n",
       "      <td>72.099998</td>\n",
       "    </tr>\n",
       "    <tr>\n",
       "      <th>04/01/2018</th>\n",
       "      <td>58.820000</td>\n",
       "      <td>99.379997</td>\n",
       "      <td>199.250000</td>\n",
       "      <td>156.380005</td>\n",
       "      <td>64.660004</td>\n",
       "      <td>183.220001</td>\n",
       "      <td>12.12</td>\n",
       "      <td>111.000000</td>\n",
       "      <td>10.83</td>\n",
       "      <td>198.539993</td>\n",
       "      <td>...</td>\n",
       "      <td>151.259995</td>\n",
       "      <td>163.399994</td>\n",
       "      <td>47.119999</td>\n",
       "      <td>29.690001</td>\n",
       "      <td>70.489998</td>\n",
       "      <td>69.360001</td>\n",
       "      <td>82.360001</td>\n",
       "      <td>124.739998</td>\n",
       "      <td>50.849998</td>\n",
       "      <td>72.529999</td>\n",
       "    </tr>\n",
       "    <tr>\n",
       "      <th>05/01/2018</th>\n",
       "      <td>58.990002</td>\n",
       "      <td>101.110001</td>\n",
       "      <td>202.320007</td>\n",
       "      <td>157.669998</td>\n",
       "      <td>66.370003</td>\n",
       "      <td>185.339996</td>\n",
       "      <td>11.88</td>\n",
       "      <td>112.180000</td>\n",
       "      <td>10.87</td>\n",
       "      <td>199.470001</td>\n",
       "      <td>...</td>\n",
       "      <td>152.229996</td>\n",
       "      <td>164.490005</td>\n",
       "      <td>46.790001</td>\n",
       "      <td>29.910000</td>\n",
       "      <td>74.150002</td>\n",
       "      <td>69.230003</td>\n",
       "      <td>82.839996</td>\n",
       "      <td>125.980003</td>\n",
       "      <td>50.869999</td>\n",
       "      <td>73.360001</td>\n",
       "    </tr>\n",
       "    <tr>\n",
       "      <th>08/01/2018</th>\n",
       "      <td>58.820000</td>\n",
       "      <td>99.489998</td>\n",
       "      <td>207.800003</td>\n",
       "      <td>158.929993</td>\n",
       "      <td>66.629997</td>\n",
       "      <td>185.039993</td>\n",
       "      <td>12.28</td>\n",
       "      <td>111.389999</td>\n",
       "      <td>10.87</td>\n",
       "      <td>200.529999</td>\n",
       "      <td>...</td>\n",
       "      <td>151.410004</td>\n",
       "      <td>162.300003</td>\n",
       "      <td>47.139999</td>\n",
       "      <td>30.260000</td>\n",
       "      <td>74.639999</td>\n",
       "      <td>69.480003</td>\n",
       "      <td>82.980003</td>\n",
       "      <td>126.220001</td>\n",
       "      <td>50.619999</td>\n",
       "      <td>74.239998</td>\n",
       "    </tr>\n",
       "  </tbody>\n",
       "</table>\n",
       "<p>5 rows × 502 columns</p>\n",
       "</div>"
      ],
      "text/plain": [
       "                  ABT        ABBV        ABMD         ACN       ATVI  \\\n",
       "Date                                                                   \n",
       "02/01/2018  58.790001   98.410004  192.490005  153.839996  64.309998   \n",
       "03/01/2018  58.919998   99.949997  195.820007  154.550003  65.309998   \n",
       "04/01/2018  58.820000   99.379997  199.250000  156.380005  64.660004   \n",
       "05/01/2018  58.990002  101.110001  202.320007  157.669998  66.370003   \n",
       "08/01/2018  58.820000   99.489998  207.800003  158.929993  66.629997   \n",
       "\n",
       "                  ADBE    AMD         AAP    AES         AMG  ...        WLTW  \\\n",
       "Date                                                          ...               \n",
       "02/01/2018  177.699997  10.98  106.089996  10.88  203.039993  ...  146.990005   \n",
       "03/01/2018  181.039993  11.55  107.050003  10.87  202.119995  ...  149.740005   \n",
       "04/01/2018  183.220001  12.12  111.000000  10.83  198.539993  ...  151.259995   \n",
       "05/01/2018  185.339996  11.88  112.180000  10.87  199.470001  ...  152.229996   \n",
       "08/01/2018  185.039993  12.28  111.389999  10.87  200.529999  ...  151.410004   \n",
       "\n",
       "                  WYNN        XEL        XRX       XLNX        XYL        YUM  \\\n",
       "Date                                                                            \n",
       "02/01/2018  164.300003  47.810001  29.370001  67.879997  68.070000  81.599998   \n",
       "03/01/2018  162.520004  47.490002  29.330000  69.239998  68.900002  81.529999   \n",
       "04/01/2018  163.399994  47.119999  29.690001  70.489998  69.360001  82.360001   \n",
       "05/01/2018  164.490005  46.790001  29.910000  74.150002  69.230003  82.839996   \n",
       "08/01/2018  162.300003  47.139999  30.260000  74.639999  69.480003  82.980003   \n",
       "\n",
       "                   ZBH       ZION        ZTS  \n",
       "Date                                          \n",
       "02/01/2018  124.059998  50.700001  71.769997  \n",
       "03/01/2018  124.919998  50.639999  72.099998  \n",
       "04/01/2018  124.739998  50.849998  72.529999  \n",
       "05/01/2018  125.980003  50.869999  73.360001  \n",
       "08/01/2018  126.220001  50.619999  74.239998  \n",
       "\n",
       "[5 rows x 502 columns]"
      ]
     },
     "execution_count": 6,
     "metadata": {},
     "output_type": "execute_result"
    }
   ],
   "source": [
    "dataset.head()"
   ]
  },
  {
   "cell_type": "markdown",
   "metadata": {
    "_cell_guid": "df6a4523-b385-69ee-c933-592826d81431"
   },
   "source": [
    "<a id='2'></a>\n",
    "# 3. Exploratory Data Analysis"
   ]
  },
  {
   "cell_type": "markdown",
   "metadata": {},
   "source": [
    "<a id='2.1'></a>\n",
    "## 3.1. Descriptive Statistics"
   ]
  },
  {
   "cell_type": "code",
   "execution_count": 7,
   "metadata": {
    "_cell_guid": "52f85dc2-0f91-3c50-400e-ddc38bea966b"
   },
   "outputs": [
    {
     "data": {
      "text/plain": [
       "(251, 502)"
      ]
     },
     "execution_count": 7,
     "metadata": {},
     "output_type": "execute_result"
    }
   ],
   "source": [
    "# shape\n",
    "dataset.shape"
   ]
  },
  {
   "cell_type": "code",
   "execution_count": 8,
   "metadata": {},
   "outputs": [
    {
     "data": {
      "text/html": [
       "<div>\n",
       "<style scoped>\n",
       "    .dataframe tbody tr th:only-of-type {\n",
       "        vertical-align: middle;\n",
       "    }\n",
       "\n",
       "    .dataframe tbody tr th {\n",
       "        vertical-align: top;\n",
       "    }\n",
       "\n",
       "    .dataframe thead th {\n",
       "        text-align: right;\n",
       "    }\n",
       "</style>\n",
       "<table border=\"1\" class=\"dataframe\">\n",
       "  <thead>\n",
       "    <tr style=\"text-align: right;\">\n",
       "      <th></th>\n",
       "      <th>ABT</th>\n",
       "      <th>ABBV</th>\n",
       "      <th>ABMD</th>\n",
       "      <th>ACN</th>\n",
       "      <th>ATVI</th>\n",
       "      <th>ADBE</th>\n",
       "      <th>AMD</th>\n",
       "      <th>AAP</th>\n",
       "      <th>AES</th>\n",
       "      <th>AMG</th>\n",
       "      <th>...</th>\n",
       "      <th>WLTW</th>\n",
       "      <th>WYNN</th>\n",
       "      <th>XEL</th>\n",
       "      <th>XRX</th>\n",
       "      <th>XLNX</th>\n",
       "      <th>XYL</th>\n",
       "      <th>YUM</th>\n",
       "      <th>ZBH</th>\n",
       "      <th>ZION</th>\n",
       "      <th>ZTS</th>\n",
       "    </tr>\n",
       "    <tr>\n",
       "      <th>Date</th>\n",
       "      <th></th>\n",
       "      <th></th>\n",
       "      <th></th>\n",
       "      <th></th>\n",
       "      <th></th>\n",
       "      <th></th>\n",
       "      <th></th>\n",
       "      <th></th>\n",
       "      <th></th>\n",
       "      <th></th>\n",
       "      <th></th>\n",
       "      <th></th>\n",
       "      <th></th>\n",
       "      <th></th>\n",
       "      <th></th>\n",
       "      <th></th>\n",
       "      <th></th>\n",
       "      <th></th>\n",
       "      <th></th>\n",
       "      <th></th>\n",
       "      <th></th>\n",
       "    </tr>\n",
       "  </thead>\n",
       "  <tbody>\n",
       "    <tr>\n",
       "      <th>02/01/2018</th>\n",
       "      <td>58.790001</td>\n",
       "      <td>98.410004</td>\n",
       "      <td>192.490005</td>\n",
       "      <td>153.839996</td>\n",
       "      <td>64.309998</td>\n",
       "      <td>177.699997</td>\n",
       "      <td>10.98</td>\n",
       "      <td>106.089996</td>\n",
       "      <td>10.88</td>\n",
       "      <td>203.039993</td>\n",
       "      <td>...</td>\n",
       "      <td>146.990005</td>\n",
       "      <td>164.300003</td>\n",
       "      <td>47.810001</td>\n",
       "      <td>29.370001</td>\n",
       "      <td>67.879997</td>\n",
       "      <td>68.070000</td>\n",
       "      <td>81.599998</td>\n",
       "      <td>124.059998</td>\n",
       "      <td>50.700001</td>\n",
       "      <td>71.769997</td>\n",
       "    </tr>\n",
       "    <tr>\n",
       "      <th>03/01/2018</th>\n",
       "      <td>58.919998</td>\n",
       "      <td>99.949997</td>\n",
       "      <td>195.820007</td>\n",
       "      <td>154.550003</td>\n",
       "      <td>65.309998</td>\n",
       "      <td>181.039993</td>\n",
       "      <td>11.55</td>\n",
       "      <td>107.050003</td>\n",
       "      <td>10.87</td>\n",
       "      <td>202.119995</td>\n",
       "      <td>...</td>\n",
       "      <td>149.740005</td>\n",
       "      <td>162.520004</td>\n",
       "      <td>47.490002</td>\n",
       "      <td>29.330000</td>\n",
       "      <td>69.239998</td>\n",
       "      <td>68.900002</td>\n",
       "      <td>81.529999</td>\n",
       "      <td>124.919998</td>\n",
       "      <td>50.639999</td>\n",
       "      <td>72.099998</td>\n",
       "    </tr>\n",
       "    <tr>\n",
       "      <th>04/01/2018</th>\n",
       "      <td>58.820000</td>\n",
       "      <td>99.379997</td>\n",
       "      <td>199.250000</td>\n",
       "      <td>156.380005</td>\n",
       "      <td>64.660004</td>\n",
       "      <td>183.220001</td>\n",
       "      <td>12.12</td>\n",
       "      <td>111.000000</td>\n",
       "      <td>10.83</td>\n",
       "      <td>198.539993</td>\n",
       "      <td>...</td>\n",
       "      <td>151.259995</td>\n",
       "      <td>163.399994</td>\n",
       "      <td>47.119999</td>\n",
       "      <td>29.690001</td>\n",
       "      <td>70.489998</td>\n",
       "      <td>69.360001</td>\n",
       "      <td>82.360001</td>\n",
       "      <td>124.739998</td>\n",
       "      <td>50.849998</td>\n",
       "      <td>72.529999</td>\n",
       "    </tr>\n",
       "    <tr>\n",
       "      <th>05/01/2018</th>\n",
       "      <td>58.990002</td>\n",
       "      <td>101.110001</td>\n",
       "      <td>202.320007</td>\n",
       "      <td>157.669998</td>\n",
       "      <td>66.370003</td>\n",
       "      <td>185.339996</td>\n",
       "      <td>11.88</td>\n",
       "      <td>112.180000</td>\n",
       "      <td>10.87</td>\n",
       "      <td>199.470001</td>\n",
       "      <td>...</td>\n",
       "      <td>152.229996</td>\n",
       "      <td>164.490005</td>\n",
       "      <td>46.790001</td>\n",
       "      <td>29.910000</td>\n",
       "      <td>74.150002</td>\n",
       "      <td>69.230003</td>\n",
       "      <td>82.839996</td>\n",
       "      <td>125.980003</td>\n",
       "      <td>50.869999</td>\n",
       "      <td>73.360001</td>\n",
       "    </tr>\n",
       "    <tr>\n",
       "      <th>08/01/2018</th>\n",
       "      <td>58.820000</td>\n",
       "      <td>99.489998</td>\n",
       "      <td>207.800003</td>\n",
       "      <td>158.929993</td>\n",
       "      <td>66.629997</td>\n",
       "      <td>185.039993</td>\n",
       "      <td>12.28</td>\n",
       "      <td>111.389999</td>\n",
       "      <td>10.87</td>\n",
       "      <td>200.529999</td>\n",
       "      <td>...</td>\n",
       "      <td>151.410004</td>\n",
       "      <td>162.300003</td>\n",
       "      <td>47.139999</td>\n",
       "      <td>30.260000</td>\n",
       "      <td>74.639999</td>\n",
       "      <td>69.480003</td>\n",
       "      <td>82.980003</td>\n",
       "      <td>126.220001</td>\n",
       "      <td>50.619999</td>\n",
       "      <td>74.239998</td>\n",
       "    </tr>\n",
       "  </tbody>\n",
       "</table>\n",
       "<p>5 rows × 502 columns</p>\n",
       "</div>"
      ],
      "text/plain": [
       "                  ABT        ABBV        ABMD         ACN       ATVI        ADBE    AMD  \\\n",
       "Date                                                                                      \n",
       "02/01/2018  58.790001   98.410004  192.490005  153.839996  64.309998  177.699997  10.98   \n",
       "03/01/2018  58.919998   99.949997  195.820007  154.550003  65.309998  181.039993  11.55   \n",
       "04/01/2018  58.820000   99.379997  199.250000  156.380005  64.660004  183.220001  12.12   \n",
       "05/01/2018  58.990002  101.110001  202.320007  157.669998  66.370003  185.339996  11.88   \n",
       "08/01/2018  58.820000   99.489998  207.800003  158.929993  66.629997  185.039993  12.28   \n",
       "\n",
       "                   AAP    AES         AMG  ...        WLTW        WYNN        XEL        XRX  \\\n",
       "Date                                       ...                                                 \n",
       "02/01/2018  106.089996  10.88  203.039993  ...  146.990005  164.300003  47.810001  29.370001   \n",
       "03/01/2018  107.050003  10.87  202.119995  ...  149.740005  162.520004  47.490002  29.330000   \n",
       "04/01/2018  111.000000  10.83  198.539993  ...  151.259995  163.399994  47.119999  29.690001   \n",
       "05/01/2018  112.180000  10.87  199.470001  ...  152.229996  164.490005  46.790001  29.910000   \n",
       "08/01/2018  111.389999  10.87  200.529999  ...  151.410004  162.300003  47.139999  30.260000   \n",
       "\n",
       "                 XLNX        XYL        YUM         ZBH       ZION        ZTS  \n",
       "Date                                                                           \n",
       "02/01/2018  67.879997  68.070000  81.599998  124.059998  50.700001  71.769997  \n",
       "03/01/2018  69.239998  68.900002  81.529999  124.919998  50.639999  72.099998  \n",
       "04/01/2018  70.489998  69.360001  82.360001  124.739998  50.849998  72.529999  \n",
       "05/01/2018  74.150002  69.230003  82.839996  125.980003  50.869999  73.360001  \n",
       "08/01/2018  74.639999  69.480003  82.980003  126.220001  50.619999  74.239998  \n",
       "\n",
       "[5 rows x 502 columns]"
      ]
     },
     "execution_count": 8,
     "metadata": {},
     "output_type": "execute_result"
    }
   ],
   "source": [
    "# peek at data\n",
    "set_option('display.width', 100)\n",
    "dataset.head(5)"
   ]
  },
  {
   "cell_type": "markdown",
   "metadata": {},
   "source": [
    "<a id='2.2'></a>\n",
    "## 3.2. Data Visualization"
   ]
  },
  {
   "cell_type": "markdown",
   "metadata": {},
   "source": [
    "We will look at the data visualisation in the later sections."
   ]
  },
  {
   "cell_type": "markdown",
   "metadata": {},
   "source": [
    "<a id='3'></a>\n",
    "## 4. Data Preparation"
   ]
  },
  {
   "cell_type": "markdown",
   "metadata": {},
   "source": [
    "<a id='3.1'></a>\n",
    "## 4.1. Data Cleaning\n",
    "We check for the NAs in the rows, either drop them or fill them with the mean of the column."
   ]
  },
  {
   "cell_type": "code",
   "execution_count": 9,
   "metadata": {},
   "outputs": [
    {
     "name": "stdout",
     "output_type": "stream",
     "text": [
      "Null Values = True\n"
     ]
    },
    {
     "data": {
      "text/plain": [
       "(251, 502)"
      ]
     },
     "execution_count": 9,
     "metadata": {},
     "output_type": "execute_result"
    }
   ],
   "source": [
    "#Checking for any null values and removing the null values'''\n",
    "print('Null Values =',dataset.isnull().values.any())\n",
    "dataset.shape"
   ]
  },
  {
   "cell_type": "markdown",
   "metadata": {},
   "source": [
    "Getting rid of the columns with more than 30% missing values. "
   ]
  },
  {
   "cell_type": "code",
   "execution_count": 10,
   "metadata": {},
   "outputs": [
    {
     "data": {
      "text/plain": [
       "(251, 498)"
      ]
     },
     "execution_count": 10,
     "metadata": {},
     "output_type": "execute_result"
    }
   ],
   "source": [
    "missing_fractions = dataset.isnull().mean().sort_values(ascending=False)\n",
    "\n",
    "missing_fractions.head(10)\n",
    "\n",
    "drop_list = sorted(list(missing_fractions[missing_fractions > 0.3].index))\n",
    "\n",
    "dataset.drop(labels=drop_list, axis=1, inplace=True)\n",
    "dataset.shape"
   ]
  },
  {
   "cell_type": "markdown",
   "metadata": {},
   "source": [
    "Given that there are null values drop the rown contianing the null values."
   ]
  },
  {
   "cell_type": "code",
   "execution_count": 11,
   "metadata": {},
   "outputs": [
    {
     "data": {
      "text/plain": [
       "(251, 498)"
      ]
     },
     "execution_count": 11,
     "metadata": {},
     "output_type": "execute_result"
    }
   ],
   "source": [
    "# Fill the missing values with the last value available in the dataset. \n",
    "dataset=dataset.fillna(method='ffill')\n",
    "dataset.shape\n"
   ]
  },
  {
   "cell_type": "code",
   "execution_count": 12,
   "metadata": {},
   "outputs": [
    {
     "data": {
      "text/html": [
       "<div>\n",
       "<style scoped>\n",
       "    .dataframe tbody tr th:only-of-type {\n",
       "        vertical-align: middle;\n",
       "    }\n",
       "\n",
       "    .dataframe tbody tr th {\n",
       "        vertical-align: top;\n",
       "    }\n",
       "\n",
       "    .dataframe thead th {\n",
       "        text-align: right;\n",
       "    }\n",
       "</style>\n",
       "<table border=\"1\" class=\"dataframe\">\n",
       "  <thead>\n",
       "    <tr style=\"text-align: right;\">\n",
       "      <th></th>\n",
       "      <th>ABT</th>\n",
       "      <th>ABBV</th>\n",
       "      <th>ABMD</th>\n",
       "      <th>ACN</th>\n",
       "      <th>ATVI</th>\n",
       "      <th>ADBE</th>\n",
       "      <th>AMD</th>\n",
       "      <th>AAP</th>\n",
       "      <th>AES</th>\n",
       "      <th>AMG</th>\n",
       "      <th>...</th>\n",
       "      <th>WLTW</th>\n",
       "      <th>WYNN</th>\n",
       "      <th>XEL</th>\n",
       "      <th>XRX</th>\n",
       "      <th>XLNX</th>\n",
       "      <th>XYL</th>\n",
       "      <th>YUM</th>\n",
       "      <th>ZBH</th>\n",
       "      <th>ZION</th>\n",
       "      <th>ZTS</th>\n",
       "    </tr>\n",
       "    <tr>\n",
       "      <th>Date</th>\n",
       "      <th></th>\n",
       "      <th></th>\n",
       "      <th></th>\n",
       "      <th></th>\n",
       "      <th></th>\n",
       "      <th></th>\n",
       "      <th></th>\n",
       "      <th></th>\n",
       "      <th></th>\n",
       "      <th></th>\n",
       "      <th></th>\n",
       "      <th></th>\n",
       "      <th></th>\n",
       "      <th></th>\n",
       "      <th></th>\n",
       "      <th></th>\n",
       "      <th></th>\n",
       "      <th></th>\n",
       "      <th></th>\n",
       "      <th></th>\n",
       "      <th></th>\n",
       "    </tr>\n",
       "  </thead>\n",
       "  <tbody>\n",
       "    <tr>\n",
       "      <th>02/01/2018</th>\n",
       "      <td>58.790001</td>\n",
       "      <td>98.410004</td>\n",
       "      <td>192.490005</td>\n",
       "      <td>153.839996</td>\n",
       "      <td>64.309998</td>\n",
       "      <td>177.699997</td>\n",
       "      <td>10.98</td>\n",
       "      <td>106.089996</td>\n",
       "      <td>10.88</td>\n",
       "      <td>203.039993</td>\n",
       "      <td>...</td>\n",
       "      <td>146.990005</td>\n",
       "      <td>164.300003</td>\n",
       "      <td>47.810001</td>\n",
       "      <td>29.370001</td>\n",
       "      <td>67.879997</td>\n",
       "      <td>68.070000</td>\n",
       "      <td>81.599998</td>\n",
       "      <td>124.059998</td>\n",
       "      <td>50.700001</td>\n",
       "      <td>71.769997</td>\n",
       "    </tr>\n",
       "    <tr>\n",
       "      <th>03/01/2018</th>\n",
       "      <td>58.919998</td>\n",
       "      <td>99.949997</td>\n",
       "      <td>195.820007</td>\n",
       "      <td>154.550003</td>\n",
       "      <td>65.309998</td>\n",
       "      <td>181.039993</td>\n",
       "      <td>11.55</td>\n",
       "      <td>107.050003</td>\n",
       "      <td>10.87</td>\n",
       "      <td>202.119995</td>\n",
       "      <td>...</td>\n",
       "      <td>149.740005</td>\n",
       "      <td>162.520004</td>\n",
       "      <td>47.490002</td>\n",
       "      <td>29.330000</td>\n",
       "      <td>69.239998</td>\n",
       "      <td>68.900002</td>\n",
       "      <td>81.529999</td>\n",
       "      <td>124.919998</td>\n",
       "      <td>50.639999</td>\n",
       "      <td>72.099998</td>\n",
       "    </tr>\n",
       "  </tbody>\n",
       "</table>\n",
       "<p>2 rows × 498 columns</p>\n",
       "</div>"
      ],
      "text/plain": [
       "                  ABT       ABBV        ABMD         ACN       ATVI        ADBE    AMD  \\\n",
       "Date                                                                                     \n",
       "02/01/2018  58.790001  98.410004  192.490005  153.839996  64.309998  177.699997  10.98   \n",
       "03/01/2018  58.919998  99.949997  195.820007  154.550003  65.309998  181.039993  11.55   \n",
       "\n",
       "                   AAP    AES         AMG  ...        WLTW        WYNN        XEL        XRX  \\\n",
       "Date                                       ...                                                 \n",
       "02/01/2018  106.089996  10.88  203.039993  ...  146.990005  164.300003  47.810001  29.370001   \n",
       "03/01/2018  107.050003  10.87  202.119995  ...  149.740005  162.520004  47.490002  29.330000   \n",
       "\n",
       "                 XLNX        XYL        YUM         ZBH       ZION        ZTS  \n",
       "Date                                                                           \n",
       "02/01/2018  67.879997  68.070000  81.599998  124.059998  50.700001  71.769997  \n",
       "03/01/2018  69.239998  68.900002  81.529999  124.919998  50.639999  72.099998  \n",
       "\n",
       "[2 rows x 498 columns]"
      ]
     },
     "execution_count": 12,
     "metadata": {},
     "output_type": "execute_result"
    }
   ],
   "source": [
    "dataset.head(2)"
   ]
  },
  {
   "cell_type": "markdown",
   "metadata": {},
   "source": [
    "<a id='3.2'></a>\n",
    "## 4.2. Data Transformation"
   ]
  },
  {
   "cell_type": "markdown",
   "metadata": {},
   "source": [
    "For the purpose of clustering, we will be using annual\n",
    "returns. Additionally, we will train the data followed by testing. Let us prepare the\n",
    "dataset for training and testing, by separating 20% of the dataset for testing followed\n",
    "by generating the return series."
   ]
  },
  {
   "cell_type": "code",
   "execution_count": 13,
   "metadata": {},
   "outputs": [],
   "source": [
    "X= dataset.copy('deep')\n",
    "row= len(X)\n",
    "train_len = int(row*.8)"
   ]
  },
  {
   "cell_type": "code",
   "execution_count": 14,
   "metadata": {},
   "outputs": [],
   "source": [
    "X_train = X.head(train_len)\n",
    "X_test = X.tail(row-train_len)"
   ]
  },
  {
   "cell_type": "code",
   "execution_count": 15,
   "metadata": {},
   "outputs": [],
   "source": [
    "#Calculate percentage return for the training data set\n",
    "returns = X_train.pct_change().dropna()"
   ]
  },
  {
   "cell_type": "code",
   "execution_count": 16,
   "metadata": {},
   "outputs": [],
   "source": [
    "#Question: Calculate percentage return for the test data set\n",
    "test_returns = X_test.pct_change().dropna()\n"
   ]
  },
  {
   "cell_type": "markdown",
   "metadata": {},
   "source": [
    "The parameters to clusters are the indices and the variables used in the clustering are the columns. Hence the data is in the right format to be fed to the clustering algorithms"
   ]
  },
  {
   "cell_type": "markdown",
   "metadata": {},
   "source": [
    "<a id='4'></a>\n",
    "# 5. Evaluate Algorithms and Models"
   ]
  },
  {
   "cell_type": "markdown",
   "metadata": {},
   "source": [
    "<a id='4.1'></a>\n",
    "## 5.1. Building Hierarchy Graph/ Dendogram"
   ]
  },
  {
   "cell_type": "markdown",
   "metadata": {},
   "source": [
    "The first step is to look for clusters of correlations using the agglomerate hierarchical clustering technique. The hierarchy class\n",
    "has a dendrogram method which takes the value returned by the linkage method of\n",
    "the same class.\n",
    "\n",
    "Linkage does the actual clustering in one line of code, and returns a list of the clusters joined in the format: Z=[stock_1, stock_2, distance, sample_count]"
   ]
  },
  {
   "cell_type": "markdown",
   "metadata": {},
   "source": [
    "#### Compute Correlation"
   ]
  },
  {
   "cell_type": "code",
   "execution_count": 17,
   "metadata": {},
   "outputs": [],
   "source": [
    "# Question: compute a correlation-distance matrix by an correlation matrix\n",
    "# Hint: you can find this equation in the HRP slides\n",
    "def correlDist(corr):\n",
    "    # A distance matrix based on correlation, where 0<=d[i,j]<=1\n",
    "    # This is a proper distance metric\n",
    "    dist = np.sqrt(0.5 * (1-corr))\n",
    "    return dist"
   ]
  },
  {
   "cell_type": "code",
   "execution_count": 18,
   "metadata": {},
   "outputs": [
    {
     "data": {
      "text/plain": [
       "array([24.        , 25.        ,  0.14742158,  2.        ])"
      ]
     },
     "execution_count": 18,
     "metadata": {},
     "output_type": "execute_result"
    }
   ],
   "source": [
    "#Calulate linkage\n",
    "dist = correlDist(returns.corr())\n",
    "link = linkage(dist, 'ward')\n",
    "link[0]"
   ]
  },
  {
   "cell_type": "code",
   "execution_count": 19,
   "metadata": {},
   "outputs": [],
   "source": [
    "# Question: try different distance measurements, such as complete, average. \n",
    "# More choices can be found: https://docs.scipy.org/doc/scipy/reference/generated/scipy.cluster.hierarchy.linkage.html\n",
    "link_comp = linkage(dist, 'complete')\n",
    "link_avg = linkage(dist, 'average')\n"
   ]
  },
  {
   "cell_type": "markdown",
   "metadata": {},
   "source": [
    "Computation of linkages is followed by\n",
    "the visualization of the clusters through a dendrogram, which displays a cluster tree.\n",
    "The leaves are the individual stocks and the root is the final single cluster. The “distance” between each cluster is shown on the y-axis, and thus the longer the branches\n",
    "are, the less correlated two clusters are."
   ]
  },
  {
   "cell_type": "code",
   "execution_count": 20,
   "metadata": {},
   "outputs": [
    {
     "data": {
      "image/png": "[encoded data removed]",
      "text/plain": [
       "<Figure size 1440x504 with 1 Axes>"
      ]
     },
     "metadata": {
      "needs_background": "light"
     },
     "output_type": "display_data"
    }
   ],
   "source": [
    "#Plot Dendogram\n",
    "plt.figure(figsize=(20, 7))\n",
    "plt.title(\"Dendrograms\")\n",
    "dendrogram(link,labels = X.columns)\n",
    "plt.show()"
   ]
  },
  {
   "cell_type": "code",
   "execution_count": 21,
   "metadata": {},
   "outputs": [
    {
     "data": {
      "image/png": "[encoded data removed]",
      "text/plain": [
       "<Figure size 1440x504 with 1 Axes>"
      ]
     },
     "metadata": {
      "needs_background": "light"
     },
     "output_type": "display_data"
    }
   ],
   "source": [
    "#Plot Dendogram\n",
    "plt.figure(figsize=(20, 7))\n",
    "plt.title(\"Dendrograms\")\n",
    "dendrogram(link_comp,labels = X.columns)\n",
    "plt.show()"
   ]
  },
  {
   "cell_type": "code",
   "execution_count": 22,
   "metadata": {},
   "outputs": [
    {
     "data": {
      "image/png": "[encoded data removed]",
      "text/plain": [
       "<Figure size 1440x504 with 1 Axes>"
      ]
     },
     "metadata": {
      "needs_background": "light"
     },
     "output_type": "display_data"
    }
   ],
   "source": [
    "#Plot Dendogram\n",
    "plt.figure(figsize=(20, 7))\n",
    "plt.title(\"Dendrograms\")\n",
    "dendrogram(link_avg,labels = X.columns)\n",
    "plt.show()"
   ]
  },
  {
   "cell_type": "markdown",
   "metadata": {},
   "source": [
    "<a id='4.2'></a>\n",
    "## 5.2 Steps for Hierarchial Risk Parity"
   ]
  },
  {
   "cell_type": "markdown",
   "metadata": {},
   "source": [
    "#### Quasi-diagonalization and getting the weights for Hierarchial Risk Parity"
   ]
  },
  {
   "cell_type": "markdown",
   "metadata": {},
   "source": [
    "\n",
    "A 'quasi-diagonalization' is a process usually known as matrix seriation and which can be performed using hierarchical clustering.\n",
    "This process reorganize the covariance matrix so similar investments will be placed together. This matrix diagonalization allow us to distribute weights optimally following an inverse-variance allocation."
   ]
  },
  {
   "cell_type": "code",
   "execution_count": 23,
   "metadata": {},
   "outputs": [],
   "source": [
    "def getQuasiDiag(link):\n",
    "    # Sort clustered items by distance\n",
    "    link = link.astype(int)\n",
    "    sortIx = pd.Series([link[-1, 0], link[-1, 1]])\n",
    "    numItems = link[-1, 3]  # number of original items\n",
    "    while sortIx.max() >= numItems:\n",
    "        sortIx.index = range(0, sortIx.shape[0] * 2, 2)  # make space\n",
    "        df0 = sortIx[sortIx >= numItems]  # find clusters\n",
    "        i = df0.index\n",
    "        j = df0.values - numItems\n",
    "        sortIx[i] = link[j, 0]  # item 1\n",
    "        df0 = pd.Series(link[j, 1], index=i + 1)\n",
    "        sortIx = sortIx.append(df0)  # item 2\n",
    "        sortIx = sortIx.sort_index()  # re-sort\n",
    "        sortIx.index = range(sortIx.shape[0])  # re-index\n",
    "    return sortIx.tolist()"
   ]
  },
  {
   "cell_type": "markdown",
   "metadata": {},
   "source": [
    "#### Recursive bisection"
   ]
  },
  {
   "cell_type": "markdown",
   "metadata": {},
   "source": [
    " This step distributes the allocation through recursive bisection based on cluster covariance."
   ]
  },
  {
   "cell_type": "code",
   "execution_count": 1,
   "metadata": {},
   "outputs": [],
   "source": [
    "def getClusterVar(cov,cItems):\n",
    "    cov_=cov.loc[cItems,cItems] # matrix slice\n",
    "    w_=getIVP(cov_).reshape(-1,1)\n",
    "    \n",
    "    # Question: Compute variance per cluster: you can find this equation in the slides related to the recursive bisection\n",
    "    clusterVar = np.dot(np.dot(w_.T, cov_), w_)[0,0] # note: matrix mult. is associative\n",
    "    return cVar\n",
    "\n",
    "def getRecBipart(cov, sortIx):\n",
    "    # Compute HRP alloc\n",
    "    w = pd.Series(np.ones(len(sortIx)), index=sortIx)\n",
    "    cItems = [sortIx]  # initialize all items in one cluster\n",
    "    while len(cItems) > 0:\n",
    "        cItems = [i[j:k] for i in cItems for j, k in ((0, len(i) // 2), (len(i) // 2, len(i))) if len(i) > 1]  # bi-section\n",
    "        for i in range(0, len(cItems), 2):  # parse in pairs\n",
    "            cItems0 = cItems[i]  # cluster 1\n",
    "            cItems1 = cItems[i + 1]  # cluster 2\n",
    "            cVar0 = getClusterVar(cov, cItems0)\n",
    "            cVar1 = getClusterVar(cov, cItems1)\n",
    "            alpha = 1 - cVar0 / (cVar0 + cVar1)\n",
    "            w[cItems0] *= alpha  # weight 1\n",
    "            w[cItems1] *= 1 - alpha  # weight 2\n",
    "    return w"
   ]
  },
  {
   "cell_type": "code",
   "execution_count": 25,
   "metadata": {},
   "outputs": [],
   "source": [
    "# Question: Compute the inverse-variance portfolio: this equation can be found in the slides about recursive bisection\n",
    "def getIVP(cov):\n",
    "    numerator = 1 / np.diag(cov)\n",
    "    return numerator / (np.trace(numerator))\n"
   ]
  },
  {
   "cell_type": "code",
   "execution_count": 26,
   "metadata": {},
   "outputs": [],
   "source": [
    "def getHRP(cov, corr):\n",
    "    # Construct a hierarchical portfolio\n",
    "    dist = correlDist(corr)\n",
    "    link = sch.linkage(dist, 'single')\n",
    "    #plt.figure(figsize=(20, 10))\n",
    "    #dn = sch.dendrogram(link, labels=cov.index.values)\n",
    "    #plt.show()\n",
    "    sortIx = getQuasiDiag(link)\n",
    "    sortIx = corr.index[sortIx].tolist()\n",
    "    hrp = getRecBipart(cov, sortIx)\n",
    "    return hrp.sort_index()"
   ]
  },
  {
   "cell_type": "markdown",
   "metadata": {},
   "source": [
    "#### Step 4:  Getting the portfolio weights for all types of asset allocation"
   ]
  },
  {
   "cell_type": "code",
   "execution_count": 27,
   "metadata": {},
   "outputs": [],
   "source": [
    "def get_all_portfolios(returns):\n",
    "    \n",
    "    cov, corr = returns.cov(), returns.corr()\n",
    "    hrp = getHRP(cov, corr)\n",
    "    portfolios = pd.DataFrame([hrp], index=['HRP']).T\n",
    "    return portfolios"
   ]
  },
  {
   "cell_type": "code",
   "execution_count": 28,
   "metadata": {},
   "outputs": [
    {
     "ename": "TypeError",
     "evalue": "Cannot interpret '<attribute 'dtype' of 'numpy.generic' objects>' as a data type",
     "output_type": "error",
     "traceback": [
      "\u001b[0;31m---------------------------------------------------------------------------\u001b[0m",
      "\u001b[0;31mTypeError\u001b[0m                                 Traceback (most recent call last)",
      "\u001b[0;32m<ipython-input-28-75c720863641>\u001b[0m in \u001b[0;36m<module>\u001b[0;34m\u001b[0m\n\u001b[0;32m----> 1\u001b[0;31m \u001b[0mportfolios\u001b[0m \u001b[0;34m=\u001b[0m \u001b[0mget_all_portfolios\u001b[0m\u001b[0;34m(\u001b[0m\u001b[0mreturns\u001b[0m\u001b[0;34m)\u001b[0m\u001b[0;34m\u001b[0m\u001b[0;34m\u001b[0m\u001b[0m\n\u001b[0m",
      "\u001b[0;32m<ipython-input-27-6342ca9e41d9>\u001b[0m in \u001b[0;36mget_all_portfolios\u001b[0;34m(returns)\u001b[0m\n\u001b[1;32m      2\u001b[0m \u001b[0;34m\u001b[0m\u001b[0m\n\u001b[1;32m      3\u001b[0m     \u001b[0mcov\u001b[0m\u001b[0;34m,\u001b[0m \u001b[0mcorr\u001b[0m \u001b[0;34m=\u001b[0m \u001b[0mreturns\u001b[0m\u001b[0;34m.\u001b[0m\u001b[0mcov\u001b[0m\u001b[0;34m(\u001b[0m\u001b[0;34m)\u001b[0m\u001b[0;34m,\u001b[0m \u001b[0mreturns\u001b[0m\u001b[0;34m.\u001b[0m\u001b[0mcorr\u001b[0m\u001b[0;34m(\u001b[0m\u001b[0;34m)\u001b[0m\u001b[0;34m\u001b[0m\u001b[0;34m\u001b[0m\u001b[0m\n\u001b[0;32m----> 4\u001b[0;31m     \u001b[0mhrp\u001b[0m \u001b[0;34m=\u001b[0m \u001b[0mgetHRP\u001b[0m\u001b[0;34m(\u001b[0m\u001b[0mcov\u001b[0m\u001b[0;34m,\u001b[0m \u001b[0mcorr\u001b[0m\u001b[0;34m)\u001b[0m\u001b[0;34m\u001b[0m\u001b[0;34m\u001b[0m\u001b[0m\n\u001b[0m\u001b[1;32m      5\u001b[0m     \u001b[0mportfolios\u001b[0m \u001b[0;34m=\u001b[0m \u001b[0mpd\u001b[0m\u001b[0;34m.\u001b[0m\u001b[0mDataFrame\u001b[0m\u001b[0;34m(\u001b[0m\u001b[0;34m[\u001b[0m\u001b[0mhrp\u001b[0m\u001b[0;34m]\u001b[0m\u001b[0;34m,\u001b[0m \u001b[0mindex\u001b[0m\u001b[0;34m=\u001b[0m\u001b[0;34m[\u001b[0m\u001b[0;34m'HRP'\u001b[0m\u001b[0;34m]\u001b[0m\u001b[0;34m)\u001b[0m\u001b[0;34m.\u001b[0m\u001b[0mT\u001b[0m\u001b[0;34m\u001b[0m\u001b[0;34m\u001b[0m\u001b[0m\n\u001b[1;32m      6\u001b[0m     \u001b[0;32mreturn\u001b[0m \u001b[0mportfolios\u001b[0m\u001b[0;34m\u001b[0m\u001b[0;34m\u001b[0m\u001b[0m\n",
      "\u001b[0;32m<ipython-input-26-2631d06b9051>\u001b[0m in \u001b[0;36mgetHRP\u001b[0;34m(cov, corr)\u001b[0m\n\u001b[1;32m      8\u001b[0m     \u001b[0msortIx\u001b[0m \u001b[0;34m=\u001b[0m \u001b[0mgetQuasiDiag\u001b[0m\u001b[0;34m(\u001b[0m\u001b[0mlink\u001b[0m\u001b[0;34m)\u001b[0m\u001b[0;34m\u001b[0m\u001b[0;34m\u001b[0m\u001b[0m\n\u001b[1;32m      9\u001b[0m     \u001b[0msortIx\u001b[0m \u001b[0;34m=\u001b[0m \u001b[0mcorr\u001b[0m\u001b[0;34m.\u001b[0m\u001b[0mindex\u001b[0m\u001b[0;34m[\u001b[0m\u001b[0msortIx\u001b[0m\u001b[0;34m]\u001b[0m\u001b[0;34m.\u001b[0m\u001b[0mtolist\u001b[0m\u001b[0;34m(\u001b[0m\u001b[0;34m)\u001b[0m\u001b[0;34m\u001b[0m\u001b[0;34m\u001b[0m\u001b[0m\n\u001b[0;32m---> 10\u001b[0;31m     \u001b[0mhrp\u001b[0m \u001b[0;34m=\u001b[0m \u001b[0mgetRecBipart\u001b[0m\u001b[0;34m(\u001b[0m\u001b[0mcov\u001b[0m\u001b[0;34m,\u001b[0m \u001b[0msortIx\u001b[0m\u001b[0;34m)\u001b[0m\u001b[0;34m\u001b[0m\u001b[0;34m\u001b[0m\u001b[0m\n\u001b[0m\u001b[1;32m     11\u001b[0m     \u001b[0;32mreturn\u001b[0m \u001b[0mhrp\u001b[0m\u001b[0;34m.\u001b[0m\u001b[0msort_index\u001b[0m\u001b[0;34m(\u001b[0m\u001b[0;34m)\u001b[0m\u001b[0;34m\u001b[0m\u001b[0;34m\u001b[0m\u001b[0m\n",
      "\u001b[0;32m<ipython-input-24-926d331bbf66>\u001b[0m in \u001b[0;36mgetRecBipart\u001b[0;34m(cov, sortIx)\u001b[0m\n\u001b[1;32m      9\u001b[0m \u001b[0;32mdef\u001b[0m \u001b[0mgetRecBipart\u001b[0m\u001b[0;34m(\u001b[0m\u001b[0mcov\u001b[0m\u001b[0;34m,\u001b[0m \u001b[0msortIx\u001b[0m\u001b[0;34m)\u001b[0m\u001b[0;34m:\u001b[0m\u001b[0;34m\u001b[0m\u001b[0;34m\u001b[0m\u001b[0m\n\u001b[1;32m     10\u001b[0m     \u001b[0;31m# Compute HRP alloc\u001b[0m\u001b[0;34m\u001b[0m\u001b[0;34m\u001b[0m\u001b[0;34m\u001b[0m\u001b[0m\n\u001b[0;32m---> 11\u001b[0;31m     \u001b[0mw\u001b[0m \u001b[0;34m=\u001b[0m \u001b[0mpd\u001b[0m\u001b[0;34m.\u001b[0m\u001b[0mSeries\u001b[0m\u001b[0;34m(\u001b[0m\u001b[0;36m1\u001b[0m\u001b[0;34m,\u001b[0m \u001b[0mindex\u001b[0m\u001b[0;34m=\u001b[0m\u001b[0msortIx\u001b[0m\u001b[0;34m)\u001b[0m\u001b[0;34m\u001b[0m\u001b[0;34m\u001b[0m\u001b[0m\n\u001b[0m\u001b[1;32m     12\u001b[0m     \u001b[0mcItems\u001b[0m \u001b[0;34m=\u001b[0m \u001b[0;34m[\u001b[0m\u001b[0msortIx\u001b[0m\u001b[0;34m]\u001b[0m  \u001b[0;31m# initialize all items in one cluster\u001b[0m\u001b[0;34m\u001b[0m\u001b[0;34m\u001b[0m\u001b[0m\n\u001b[1;32m     13\u001b[0m     \u001b[0;32mwhile\u001b[0m \u001b[0mlen\u001b[0m\u001b[0;34m(\u001b[0m\u001b[0mcItems\u001b[0m\u001b[0;34m)\u001b[0m \u001b[0;34m>\u001b[0m \u001b[0;36m0\u001b[0m\u001b[0;34m:\u001b[0m\u001b[0;34m\u001b[0m\u001b[0;34m\u001b[0m\u001b[0m\n",
      "\u001b[0;32m~/anaconda3/lib/python3.7/site-packages/pandas/core/series.py\u001b[0m in \u001b[0;36m__init__\u001b[0;34m(self, data, index, dtype, name, copy, fastpath)\u001b[0m\n\u001b[1;32m    303\u001b[0m                     \u001b[0mdata\u001b[0m \u001b[0;34m=\u001b[0m \u001b[0mdata\u001b[0m\u001b[0;34m.\u001b[0m\u001b[0mcopy\u001b[0m\u001b[0;34m(\u001b[0m\u001b[0;34m)\u001b[0m\u001b[0;34m\u001b[0m\u001b[0;34m\u001b[0m\u001b[0m\n\u001b[1;32m    304\u001b[0m             \u001b[0;32melse\u001b[0m\u001b[0;34m:\u001b[0m\u001b[0;34m\u001b[0m\u001b[0;34m\u001b[0m\u001b[0m\n\u001b[0;32m--> 305\u001b[0;31m                 \u001b[0mdata\u001b[0m \u001b[0;34m=\u001b[0m \u001b[0msanitize_array\u001b[0m\u001b[0;34m(\u001b[0m\u001b[0mdata\u001b[0m\u001b[0;34m,\u001b[0m \u001b[0mindex\u001b[0m\u001b[0;34m,\u001b[0m \u001b[0mdtype\u001b[0m\u001b[0;34m,\u001b[0m \u001b[0mcopy\u001b[0m\u001b[0;34m,\u001b[0m \u001b[0mraise_cast_failure\u001b[0m\u001b[0;34m=\u001b[0m\u001b[0;32mTrue\u001b[0m\u001b[0;34m)\u001b[0m\u001b[0;34m\u001b[0m\u001b[0;34m\u001b[0m\u001b[0m\n\u001b[0m\u001b[1;32m    306\u001b[0m \u001b[0;34m\u001b[0m\u001b[0m\n\u001b[1;32m    307\u001b[0m                 \u001b[0mdata\u001b[0m \u001b[0;34m=\u001b[0m \u001b[0mSingleBlockManager\u001b[0m\u001b[0;34m(\u001b[0m\u001b[0mdata\u001b[0m\u001b[0;34m,\u001b[0m \u001b[0mindex\u001b[0m\u001b[0;34m,\u001b[0m \u001b[0mfastpath\u001b[0m\u001b[0;34m=\u001b[0m\u001b[0;32mTrue\u001b[0m\u001b[0;34m)\u001b[0m\u001b[0;34m\u001b[0m\u001b[0;34m\u001b[0m\u001b[0m\n",
      "\u001b[0;32m~/anaconda3/lib/python3.7/site-packages/pandas/core/construction.py\u001b[0m in \u001b[0;36msanitize_array\u001b[0;34m(data, index, dtype, copy, raise_cast_failure)\u001b[0m\n\u001b[1;32m    463\u001b[0m                 \u001b[0mvalue\u001b[0m \u001b[0;34m=\u001b[0m \u001b[0mmaybe_cast_to_datetime\u001b[0m\u001b[0;34m(\u001b[0m\u001b[0mvalue\u001b[0m\u001b[0;34m,\u001b[0m \u001b[0mdtype\u001b[0m\u001b[0;34m)\u001b[0m\u001b[0;34m\u001b[0m\u001b[0;34m\u001b[0m\u001b[0m\n\u001b[1;32m    464\u001b[0m \u001b[0;34m\u001b[0m\u001b[0m\n\u001b[0;32m--> 465\u001b[0;31m             \u001b[0msubarr\u001b[0m \u001b[0;34m=\u001b[0m \u001b[0mconstruct_1d_arraylike_from_scalar\u001b[0m\u001b[0;34m(\u001b[0m\u001b[0mvalue\u001b[0m\u001b[0;34m,\u001b[0m \u001b[0mlen\u001b[0m\u001b[0;34m(\u001b[0m\u001b[0mindex\u001b[0m\u001b[0;34m)\u001b[0m\u001b[0;34m,\u001b[0m \u001b[0mdtype\u001b[0m\u001b[0;34m)\u001b[0m\u001b[0;34m\u001b[0m\u001b[0;34m\u001b[0m\u001b[0m\n\u001b[0m\u001b[1;32m    466\u001b[0m \u001b[0;34m\u001b[0m\u001b[0m\n\u001b[1;32m    467\u001b[0m         \u001b[0;32melse\u001b[0m\u001b[0;34m:\u001b[0m\u001b[0;34m\u001b[0m\u001b[0;34m\u001b[0m\u001b[0m\n",
      "\u001b[0;32m~/anaconda3/lib/python3.7/site-packages/pandas/core/dtypes/cast.py\u001b[0m in \u001b[0;36mconstruct_1d_arraylike_from_scalar\u001b[0;34m(value, length, dtype)\u001b[0m\n\u001b[1;32m   1459\u001b[0m                 \u001b[0mvalue\u001b[0m \u001b[0;34m=\u001b[0m \u001b[0mensure_str\u001b[0m\u001b[0;34m(\u001b[0m\u001b[0mvalue\u001b[0m\u001b[0;34m)\u001b[0m\u001b[0;34m\u001b[0m\u001b[0;34m\u001b[0m\u001b[0m\n\u001b[1;32m   1460\u001b[0m \u001b[0;34m\u001b[0m\u001b[0m\n\u001b[0;32m-> 1461\u001b[0;31m         \u001b[0msubarr\u001b[0m \u001b[0;34m=\u001b[0m \u001b[0mnp\u001b[0m\u001b[0;34m.\u001b[0m\u001b[0mempty\u001b[0m\u001b[0;34m(\u001b[0m\u001b[0mlength\u001b[0m\u001b[0;34m,\u001b[0m \u001b[0mdtype\u001b[0m\u001b[0;34m=\u001b[0m\u001b[0mdtype\u001b[0m\u001b[0;34m)\u001b[0m\u001b[0;34m\u001b[0m\u001b[0;34m\u001b[0m\u001b[0m\n\u001b[0m\u001b[1;32m   1462\u001b[0m         \u001b[0msubarr\u001b[0m\u001b[0;34m.\u001b[0m\u001b[0mfill\u001b[0m\u001b[0;34m(\u001b[0m\u001b[0mvalue\u001b[0m\u001b[0;34m)\u001b[0m\u001b[0;34m\u001b[0m\u001b[0;34m\u001b[0m\u001b[0m\n\u001b[1;32m   1463\u001b[0m \u001b[0;34m\u001b[0m\u001b[0m\n",
      "\u001b[0;31mTypeError\u001b[0m: Cannot interpret '<attribute 'dtype' of 'numpy.generic' objects>' as a data type"
     ]
    }
   ],
   "source": [
    "portfolios = get_all_portfolios(returns)"
   ]
  },
  {
   "cell_type": "code",
   "execution_count": 29,
   "metadata": {},
   "outputs": [
    {
     "ename": "NameError",
     "evalue": "name 'portfolios' is not defined",
     "output_type": "error",
     "traceback": [
      "\u001b[0;31m---------------------------------------------------------------------------\u001b[0m",
      "\u001b[0;31mNameError\u001b[0m                                 Traceback (most recent call last)",
      "\u001b[0;32m<ipython-input-29-e25b5ec93084>\u001b[0m in \u001b[0;36m<module>\u001b[0;34m\u001b[0m\n\u001b[1;32m      1\u001b[0m \u001b[0mfig\u001b[0m\u001b[0;34m,\u001b[0m \u001b[0;34m(\u001b[0m\u001b[0max1\u001b[0m\u001b[0;34m)\u001b[0m \u001b[0;34m=\u001b[0m \u001b[0mplt\u001b[0m\u001b[0;34m.\u001b[0m\u001b[0msubplots\u001b[0m\u001b[0;34m(\u001b[0m\u001b[0;36m1\u001b[0m\u001b[0;34m,\u001b[0m \u001b[0;36m1\u001b[0m\u001b[0;34m,\u001b[0m\u001b[0mfigsize\u001b[0m\u001b[0;34m=\u001b[0m\u001b[0;34m(\u001b[0m\u001b[0;36m30\u001b[0m\u001b[0;34m,\u001b[0m\u001b[0;36m20\u001b[0m\u001b[0;34m)\u001b[0m\u001b[0;34m)\u001b[0m\u001b[0;34m\u001b[0m\u001b[0;34m\u001b[0m\u001b[0m\n\u001b[0;32m----> 2\u001b[0;31m \u001b[0max1\u001b[0m\u001b[0;34m.\u001b[0m\u001b[0mpie\u001b[0m\u001b[0;34m(\u001b[0m\u001b[0mportfolios\u001b[0m\u001b[0;34m.\u001b[0m\u001b[0miloc\u001b[0m\u001b[0;34m[\u001b[0m\u001b[0;34m:\u001b[0m\u001b[0;34m,\u001b[0m\u001b[0;36m0\u001b[0m\u001b[0;34m]\u001b[0m\u001b[0;34m)\u001b[0m\u001b[0;34m;\u001b[0m\u001b[0;34m\u001b[0m\u001b[0;34m\u001b[0m\u001b[0m\n\u001b[0m\u001b[1;32m      3\u001b[0m \u001b[0max1\u001b[0m\u001b[0;34m.\u001b[0m\u001b[0mset_title\u001b[0m\u001b[0;34m(\u001b[0m\u001b[0;34m'HRP'\u001b[0m\u001b[0;34m,\u001b[0m\u001b[0mfontsize\u001b[0m \u001b[0;34m=\u001b[0m \u001b[0;36m30\u001b[0m\u001b[0;34m)\u001b[0m\u001b[0;34m\u001b[0m\u001b[0;34m\u001b[0m\u001b[0m\n",
      "\u001b[0;31mNameError\u001b[0m: name 'portfolios' is not defined"
     ]
    },
    {
     "data": {
      "image/png": "[encoded data removed]",
      "text/plain": [
       "<Figure size 2160x1440 with 1 Axes>"
      ]
     },
     "metadata": {
      "needs_background": "light"
     },
     "output_type": "display_data"
    }
   ],
   "source": [
    "fig, (ax1) = plt.subplots(1, 1,figsize=(30,20))\n",
    "ax1.pie(portfolios.iloc[:,0]);\n",
    "ax1.set_title('HRP',fontsize = 30)"
   ]
  },
  {
   "cell_type": "markdown",
   "metadata": {},
   "source": [
    "The first pie chart shown the asset allocation of HRP. We clearly see more diversification in HRP."
   ]
  },
  {
   "cell_type": "markdown",
   "metadata": {},
   "source": [
    "<a id='5'></a>\n",
    "# 6. Backtesting-Out Of Sample "
   ]
  },
  {
   "cell_type": "code",
   "execution_count": 28,
   "metadata": {},
   "outputs": [],
   "source": [
    "Insample_Result=pd.DataFrame(np.dot(returns,np.array(portfolios)), \\\n",
    "                             columns=['HRP'], index = returns.index)\n",
    "OutOfSample_Result=pd.DataFrame(np.dot(returns_test,np.array(portfolios)), \\\n",
    "                                columns=['HRP'], index = returns_test.index)"
   ]
  },
  {
   "cell_type": "code",
   "execution_count": 29,
   "metadata": {},
   "outputs": [
    {
     "data": {
      "text/plain": [
       "<AxesSubplot:title={'center':'Out Of Sample Results'}, xlabel='Date'>"
      ]
     },
     "execution_count": 29,
     "metadata": {},
     "output_type": "execute_result"
    },
    {
     "data": {
      "image/png": "[encoded data removed]",
      "text/plain": [
       "<Figure size 720x360 with 1 Axes>"
      ]
     },
     "metadata": {
      "needs_background": "light"
     },
     "output_type": "display_data"
    },
    {
     "data": {
      "image/png": "[encoded data removed]",
      "text/plain": [
       "<Figure size 720x360 with 1 Axes>"
      ]
     },
     "metadata": {
      "needs_background": "light"
     },
     "output_type": "display_data"
    }
   ],
   "source": [
    "Insample_Result.cumsum().plot(figsize=(10, 5), title =\"In-Sample Results\")\n",
    "OutOfSample_Result.cumsum().plot(figsize=(10, 5), title =\"Out Of Sample Results\")"
   ]
  },
  {
   "cell_type": "markdown",
   "metadata": {},
   "source": [
    "### In Sample and Out of Sample Results"
   ]
  },
  {
   "cell_type": "code",
   "execution_count": 30,
   "metadata": {},
   "outputs": [
    {
     "data": {
      "text/html": [
       "<div>\n",
       "<style scoped>\n",
       "    .dataframe tbody tr th:only-of-type {\n",
       "        vertical-align: middle;\n",
       "    }\n",
       "\n",
       "    .dataframe tbody tr th {\n",
       "        vertical-align: top;\n",
       "    }\n",
       "\n",
       "    .dataframe thead th {\n",
       "        text-align: right;\n",
       "    }\n",
       "</style>\n",
       "<table border=\"1\" class=\"dataframe\">\n",
       "  <thead>\n",
       "    <tr style=\"text-align: right;\">\n",
       "      <th></th>\n",
       "      <th>stdev</th>\n",
       "      <th>sharp_ratio</th>\n",
       "    </tr>\n",
       "  </thead>\n",
       "  <tbody>\n",
       "    <tr>\n",
       "      <th>HRP</th>\n",
       "      <td>0.134705</td>\n",
       "      <td>0.240707</td>\n",
       "    </tr>\n",
       "  </tbody>\n",
       "</table>\n",
       "</div>"
      ],
      "text/plain": [
       "        stdev  sharp_ratio\n",
       "HRP  0.134705     0.240707"
      ]
     },
     "execution_count": 30,
     "metadata": {},
     "output_type": "execute_result"
    }
   ],
   "source": [
    "#In_sample Results\n",
    "stddev = Insample_Result.std() * np.sqrt(252)\n",
    "sharp_ratio = (Insample_Result.mean()*np.sqrt(252))/(Insample_Result).std()\n",
    "Results = pd.DataFrame(dict(stdev=stddev, sharp_ratio = sharp_ratio))\n",
    "Results"
   ]
  },
  {
   "cell_type": "code",
   "execution_count": 2,
   "metadata": {},
   "outputs": [],
   "source": [
    "# Question: Inspired by the above in-sample process, please complete out-of-sample results.\n",
    "\n"
   ]
  },
  {
   "cell_type": "markdown",
   "metadata": {},
   "source": [
    "**Conclusion**\n",
    "\n",
    "Markowitz’s minimum-variance based portfolio allocation is less diverse and is concentrated in a few stocks. In the hierarchical clustering-based allocation, the allocation is more diverse and distributed across many assets. These portfolios then offer better tail risk management.\n",
    "\n",
    "Finally, we looked at the backtesting framework, which enables us to compute and\n",
    "analyze the in-sample and out of sample return and sharpe ratio of each hypothetical\n",
    "portfolio. This helps in determining the best performer out of all the portfolio allocation methods. The hierarchical clustering approaches yielded the best out-of-sample\n",
    "results.\n"
   ]
  },
  {
   "cell_type": "markdown",
   "metadata": {},
   "source": [
    "References:\n",
    "[1] https://quantdare.com/risk-parity-versus-inverse-volatility/"
   ]
  },
  {
   "cell_type": "code",
   "execution_count": null,
   "metadata": {},
   "outputs": [],
   "source": []
  }
 ],
 "metadata": {
  "_change_revision": 206,
  "_is_fork": false,
  "kernelspec": {
   "display_name": "Python 3",
   "language": "python",
   "name": "python3"
  },
  "language_info": {
   "codemirror_mode": {
    "name": "ipython",
    "version": 3
   },
   "file_extension": ".py",
   "mimetype": "text/x-python",
   "name": "python",
   "nbconvert_exporter": "python",
   "pygments_lexer": "ipython3",
   "version": "3.7.6"
  }
 },
 "nbformat": 4,
 "nbformat_minor": 4
}
