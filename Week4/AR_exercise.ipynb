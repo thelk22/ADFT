{
 "cells": [
  {
   "cell_type": "markdown",
   "metadata": {},
   "source": [
    "# Autoregressive Model (AR)"
   ]
  },
  {
   "cell_type": "markdown",
   "metadata": {},
   "source": [
    "In this Notebook, we will focus on: 1) Partial autocorrection function; 2) AR completion from scratch."
   ]
  },
  {
   "cell_type": "markdown",
   "metadata": {},
   "source": [
    "Source: 1) https://machinelearningmastery.com/gentle-introduction-autocorrelation-partial-autocorrelation/; 2) https://timeseriesreasoning.com/contents/partial-auto-correlation/"
   ]
  },
  {
   "cell_type": "markdown",
   "metadata": {},
   "source": [
    "## Partial autocorrelation function"
   ]
  },
  {
   "cell_type": "markdown",
   "metadata": {},
   "source": [
    "A partial autocorrelation is a summary of the relationship between an observation in a time series with observations at prior time steps with the relationships of intervening observations removed."
   ]
  },
  {
   "cell_type": "markdown",
   "metadata": {},
   "source": [
    "The autocorrelation for an observation and an observation at a prior time step is comprised of both the direct correlation and indirect correlations. These indirect correlations are a linear function of the correlation of the observation, with observations at intervening time steps. We can define the PACF with lag 2 just described as"
   ]
  },
  {
   "cell_type": "markdown",
   "metadata": {},
   "source": [
    "$\\operatorname{PACF}\\left(\\boldsymbol{T}_{i}, \\boldsymbol{k}=\\mathbf{2}\\right)=\\frac{\\operatorname{Cov}\\left(T_{i}\\left|T_{(i-1)}, T_{(i-2)}\\right| T_{(i-1)}\\right)}{\\sigma_{T_{i} \\mid T_{(i-1)}} \\times \\sigma_{T_{(i-2)} \\mid T_{(i-1)}}}$"
   ]
  },
  {
   "cell_type": "code",
   "execution_count": 91,
   "metadata": {},
   "outputs": [],
   "source": [
    "import pandas as pd\n",
    "from sklearn import linear_model\n",
    "\n",
    "\n",
    "#Read the data into a pandas DataFrame and convert it to stationarity\n",
    "df = pd.read_csv('AAPL.csv', header=0, infer_datetime_format=True, parse_dates=[0], index_col=[0])\n",
    "df['Open_diff'] = df['Open'].diff().diff()"
   ]
  },
  {
   "cell_type": "code",
   "execution_count": 92,
   "metadata": {},
   "outputs": [
    {
     "data": {
      "text/html": [
       "<div>\n",
       "<style scoped>\n",
       "    .dataframe tbody tr th:only-of-type {\n",
       "        vertical-align: middle;\n",
       "    }\n",
       "\n",
       "    .dataframe tbody tr th {\n",
       "        vertical-align: top;\n",
       "    }\n",
       "\n",
       "    .dataframe thead th {\n",
       "        text-align: right;\n",
       "    }\n",
       "</style>\n",
       "<table border=\"1\" class=\"dataframe\">\n",
       "  <thead>\n",
       "    <tr style=\"text-align: right;\">\n",
       "      <th></th>\n",
       "      <th>Open</th>\n",
       "      <th>Open_diff</th>\n",
       "      <th>Lag1</th>\n",
       "      <th>Lag2</th>\n",
       "    </tr>\n",
       "    <tr>\n",
       "      <th>Date</th>\n",
       "      <th></th>\n",
       "      <th></th>\n",
       "      <th></th>\n",
       "      <th></th>\n",
       "    </tr>\n",
       "  </thead>\n",
       "  <tbody>\n",
       "    <tr>\n",
       "      <th>2020-12-28</th>\n",
       "      <td>133.990005</td>\n",
       "      <td>NaN</td>\n",
       "      <td>NaN</td>\n",
       "      <td>NaN</td>\n",
       "    </tr>\n",
       "    <tr>\n",
       "      <th>2020-12-29</th>\n",
       "      <td>138.050003</td>\n",
       "      <td>NaN</td>\n",
       "      <td>133.990005</td>\n",
       "      <td>NaN</td>\n",
       "    </tr>\n",
       "    <tr>\n",
       "      <th>2020-12-30</th>\n",
       "      <td>135.580002</td>\n",
       "      <td>-6.529999</td>\n",
       "      <td>138.050003</td>\n",
       "      <td>133.990005</td>\n",
       "    </tr>\n",
       "    <tr>\n",
       "      <th>2020-12-31</th>\n",
       "      <td>134.080002</td>\n",
       "      <td>0.970001</td>\n",
       "      <td>135.580002</td>\n",
       "      <td>138.050003</td>\n",
       "    </tr>\n",
       "    <tr>\n",
       "      <th>2021-01-04</th>\n",
       "      <td>133.520004</td>\n",
       "      <td>0.940002</td>\n",
       "      <td>134.080002</td>\n",
       "      <td>135.580002</td>\n",
       "    </tr>\n",
       "  </tbody>\n",
       "</table>\n",
       "</div>"
      ],
      "text/plain": [
       "                  Open  Open_diff        Lag1        Lag2\n",
       "Date                                                     \n",
       "2020-12-28  133.990005        NaN         NaN         NaN\n",
       "2020-12-29  138.050003        NaN  133.990005         NaN\n",
       "2020-12-30  135.580002  -6.529999  138.050003  133.990005\n",
       "2020-12-31  134.080002   0.970001  135.580002  138.050003\n",
       "2021-01-04  133.520004   0.940002  134.080002  135.580002"
      ]
     },
     "execution_count": 92,
     "metadata": {},
     "output_type": "execute_result"
    }
   ],
   "source": [
    "#add two columns containing the LAG=1 and LAG=2 version of the data to the DataFrame\n",
    "df['Lag1'] = df['Open'].shift(periods=1)\n",
    "df['Lag2'] = df['Open'].shift(periods=2)\n",
    "\n",
    "df.head()"
   ]
  },
  {
   "cell_type": "code",
   "execution_count": 93,
   "metadata": {},
   "outputs": [
    {
     "data": {
      "text/html": [
       "<div>\n",
       "<style scoped>\n",
       "    .dataframe tbody tr th:only-of-type {\n",
       "        vertical-align: middle;\n",
       "    }\n",
       "\n",
       "    .dataframe tbody tr th {\n",
       "        vertical-align: top;\n",
       "    }\n",
       "\n",
       "    .dataframe thead th {\n",
       "        text-align: right;\n",
       "    }\n",
       "</style>\n",
       "<table border=\"1\" class=\"dataframe\">\n",
       "  <thead>\n",
       "    <tr style=\"text-align: right;\">\n",
       "      <th></th>\n",
       "      <th>Open</th>\n",
       "      <th>Open_diff</th>\n",
       "      <th>Lag1</th>\n",
       "      <th>Lag2</th>\n",
       "    </tr>\n",
       "    <tr>\n",
       "      <th>Date</th>\n",
       "      <th></th>\n",
       "      <th></th>\n",
       "      <th></th>\n",
       "      <th></th>\n",
       "    </tr>\n",
       "  </thead>\n",
       "  <tbody>\n",
       "    <tr>\n",
       "      <th>2021-01-04</th>\n",
       "      <td>133.520004</td>\n",
       "      <td>0.940002</td>\n",
       "      <td>134.080002</td>\n",
       "      <td>135.580002</td>\n",
       "    </tr>\n",
       "    <tr>\n",
       "      <th>2021-01-05</th>\n",
       "      <td>128.889999</td>\n",
       "      <td>-4.070007</td>\n",
       "      <td>133.520004</td>\n",
       "      <td>134.080002</td>\n",
       "    </tr>\n",
       "    <tr>\n",
       "      <th>2021-01-06</th>\n",
       "      <td>127.720001</td>\n",
       "      <td>3.460007</td>\n",
       "      <td>128.889999</td>\n",
       "      <td>133.520004</td>\n",
       "    </tr>\n",
       "    <tr>\n",
       "      <th>2021-01-07</th>\n",
       "      <td>128.360001</td>\n",
       "      <td>1.809998</td>\n",
       "      <td>127.720001</td>\n",
       "      <td>128.889999</td>\n",
       "    </tr>\n",
       "    <tr>\n",
       "      <th>2021-01-08</th>\n",
       "      <td>132.429993</td>\n",
       "      <td>3.429992</td>\n",
       "      <td>128.360001</td>\n",
       "      <td>127.720001</td>\n",
       "    </tr>\n",
       "  </tbody>\n",
       "</table>\n",
       "</div>"
      ],
      "text/plain": [
       "                  Open  Open_diff        Lag1        Lag2\n",
       "Date                                                     \n",
       "2021-01-04  133.520004   0.940002  134.080002  135.580002\n",
       "2021-01-05  128.889999  -4.070007  133.520004  134.080002\n",
       "2021-01-06  127.720001   3.460007  128.889999  133.520004\n",
       "2021-01-07  128.360001   1.809998  127.720001  128.889999\n",
       "2021-01-08  132.429993   3.429992  128.360001  127.720001"
      ]
     },
     "execution_count": 93,
     "metadata": {},
     "output_type": "execute_result"
    }
   ],
   "source": [
    "#drop the top four rows as they contain NaNs after shifting\n",
    "df = df.drop(df.index[range(0,4)])\n",
    "df.head()"
   ]
  },
  {
   "cell_type": "code",
   "execution_count": 94,
   "metadata": {},
   "outputs": [
    {
     "data": {
      "text/html": [
       "<div>\n",
       "<style scoped>\n",
       "    .dataframe tbody tr th:only-of-type {\n",
       "        vertical-align: middle;\n",
       "    }\n",
       "\n",
       "    .dataframe tbody tr th {\n",
       "        vertical-align: top;\n",
       "    }\n",
       "\n",
       "    .dataframe thead th {\n",
       "        text-align: right;\n",
       "    }\n",
       "</style>\n",
       "<table border=\"1\" class=\"dataframe\">\n",
       "  <thead>\n",
       "    <tr style=\"text-align: right;\">\n",
       "      <th></th>\n",
       "      <th>Lag1</th>\n",
       "      <th>Lag2</th>\n",
       "    </tr>\n",
       "    <tr>\n",
       "      <th>Date</th>\n",
       "      <th></th>\n",
       "      <th></th>\n",
       "    </tr>\n",
       "  </thead>\n",
       "  <tbody>\n",
       "    <tr>\n",
       "      <th>2021-01-04</th>\n",
       "      <td>134.080002</td>\n",
       "      <td>135.580002</td>\n",
       "    </tr>\n",
       "    <tr>\n",
       "      <th>2021-01-05</th>\n",
       "      <td>133.520004</td>\n",
       "      <td>134.080002</td>\n",
       "    </tr>\n",
       "    <tr>\n",
       "      <th>2021-01-06</th>\n",
       "      <td>128.889999</td>\n",
       "      <td>133.520004</td>\n",
       "    </tr>\n",
       "    <tr>\n",
       "      <th>2021-01-07</th>\n",
       "      <td>127.720001</td>\n",
       "      <td>128.889999</td>\n",
       "    </tr>\n",
       "    <tr>\n",
       "      <th>2021-01-08</th>\n",
       "      <td>128.360001</td>\n",
       "      <td>127.720001</td>\n",
       "    </tr>\n",
       "    <tr>\n",
       "      <th>...</th>\n",
       "      <td>...</td>\n",
       "      <td>...</td>\n",
       "    </tr>\n",
       "    <tr>\n",
       "      <th>2021-12-20</th>\n",
       "      <td>169.929993</td>\n",
       "      <td>179.279999</td>\n",
       "    </tr>\n",
       "    <tr>\n",
       "      <th>2021-12-21</th>\n",
       "      <td>168.279999</td>\n",
       "      <td>169.929993</td>\n",
       "    </tr>\n",
       "    <tr>\n",
       "      <th>2021-12-22</th>\n",
       "      <td>171.559998</td>\n",
       "      <td>168.279999</td>\n",
       "    </tr>\n",
       "    <tr>\n",
       "      <th>2021-12-23</th>\n",
       "      <td>173.039993</td>\n",
       "      <td>171.559998</td>\n",
       "    </tr>\n",
       "    <tr>\n",
       "      <th>2021-12-27</th>\n",
       "      <td>175.850006</td>\n",
       "      <td>173.039993</td>\n",
       "    </tr>\n",
       "  </tbody>\n",
       "</table>\n",
       "<p>248 rows × 2 columns</p>\n",
       "</div>"
      ],
      "text/plain": [
       "                  Lag1        Lag2\n",
       "Date                              \n",
       "2021-01-04  134.080002  135.580002\n",
       "2021-01-05  133.520004  134.080002\n",
       "2021-01-06  128.889999  133.520004\n",
       "2021-01-07  127.720001  128.889999\n",
       "2021-01-08  128.360001  127.720001\n",
       "...                ...         ...\n",
       "2021-12-20  169.929993  179.279999\n",
       "2021-12-21  168.279999  169.929993\n",
       "2021-12-22  171.559998  168.279999\n",
       "2021-12-23  173.039993  171.559998\n",
       "2021-12-27  175.850006  173.039993\n",
       "\n",
       "[248 rows x 2 columns]"
      ]
     },
     "execution_count": 94,
     "metadata": {},
     "output_type": "execute_result"
    }
   ],
   "source": [
    "df[['Lag1','Lag2']]"
   ]
  },
  {
   "cell_type": "code",
   "execution_count": 95,
   "metadata": {},
   "outputs": [],
   "source": [
    "lin_reg = linear_model.LinearRegression()\n",
    "X = df[['Lag1']]\n",
    "Y = df['Open']"
   ]
  },
  {
   "cell_type": "code",
   "execution_count": 96,
   "metadata": {},
   "outputs": [
    {
     "data": {
      "text/html": [
       "<div>\n",
       "<style scoped>\n",
       "    .dataframe tbody tr th:only-of-type {\n",
       "        vertical-align: middle;\n",
       "    }\n",
       "\n",
       "    .dataframe tbody tr th {\n",
       "        vertical-align: top;\n",
       "    }\n",
       "\n",
       "    .dataframe thead th {\n",
       "        text-align: right;\n",
       "    }\n",
       "</style>\n",
       "<table border=\"1\" class=\"dataframe\">\n",
       "  <thead>\n",
       "    <tr style=\"text-align: right;\">\n",
       "      <th></th>\n",
       "      <th>Open</th>\n",
       "      <th>Open_diff</th>\n",
       "      <th>Lag1</th>\n",
       "      <th>Lag2</th>\n",
       "      <th>Predicted_T_i|T_(i-1)</th>\n",
       "    </tr>\n",
       "    <tr>\n",
       "      <th>Date</th>\n",
       "      <th></th>\n",
       "      <th></th>\n",
       "      <th></th>\n",
       "      <th></th>\n",
       "      <th></th>\n",
       "    </tr>\n",
       "  </thead>\n",
       "  <tbody>\n",
       "    <tr>\n",
       "      <th>2021-01-04</th>\n",
       "      <td>133.520004</td>\n",
       "      <td>0.940002</td>\n",
       "      <td>134.080002</td>\n",
       "      <td>135.580002</td>\n",
       "      <td>134.252177</td>\n",
       "    </tr>\n",
       "    <tr>\n",
       "      <th>2021-01-05</th>\n",
       "      <td>128.889999</td>\n",
       "      <td>-4.070007</td>\n",
       "      <td>133.520004</td>\n",
       "      <td>134.080002</td>\n",
       "      <td>133.692064</td>\n",
       "    </tr>\n",
       "    <tr>\n",
       "      <th>2021-01-06</th>\n",
       "      <td>127.720001</td>\n",
       "      <td>3.460007</td>\n",
       "      <td>128.889999</td>\n",
       "      <td>133.520004</td>\n",
       "      <td>129.061106</td>\n",
       "    </tr>\n",
       "    <tr>\n",
       "      <th>2021-01-07</th>\n",
       "      <td>128.360001</td>\n",
       "      <td>1.809998</td>\n",
       "      <td>127.720001</td>\n",
       "      <td>128.889999</td>\n",
       "      <td>127.890867</td>\n",
       "    </tr>\n",
       "    <tr>\n",
       "      <th>2021-01-08</th>\n",
       "      <td>132.429993</td>\n",
       "      <td>3.429992</td>\n",
       "      <td>128.360001</td>\n",
       "      <td>127.720001</td>\n",
       "      <td>128.530999</td>\n",
       "    </tr>\n",
       "  </tbody>\n",
       "</table>\n",
       "</div>"
      ],
      "text/plain": [
       "                  Open  Open_diff        Lag1        Lag2  \\\n",
       "Date                                                        \n",
       "2021-01-04  133.520004   0.940002  134.080002  135.580002   \n",
       "2021-01-05  128.889999  -4.070007  133.520004  134.080002   \n",
       "2021-01-06  127.720001   3.460007  128.889999  133.520004   \n",
       "2021-01-07  128.360001   1.809998  127.720001  128.889999   \n",
       "2021-01-08  132.429993   3.429992  128.360001  127.720001   \n",
       "\n",
       "            Predicted_T_i|T_(i-1)  \n",
       "Date                               \n",
       "2021-01-04             134.252177  \n",
       "2021-01-05             133.692064  \n",
       "2021-01-06             129.061106  \n",
       "2021-01-07             127.890867  \n",
       "2021-01-08             128.530999  "
      ]
     },
     "execution_count": 96,
     "metadata": {},
     "output_type": "execute_result"
    }
   ],
   "source": [
    "lin_reg.fit(X, Y)\n",
    "\n",
    "df['Predicted_T_i|T_(i-1)'] = lin_reg.predict(X)\n",
    "\n",
    "df.head()"
   ]
  },
  {
   "cell_type": "code",
   "execution_count": 97,
   "metadata": {},
   "outputs": [],
   "source": [
    "#create the time series of residuals corresponding to the predictions of this model and add it to the DataFrame.\n",
    "# This gives us the first one of the two time series we need for calculating the PACF for X at LAG=2\n",
    "#Observed minus predicted\n",
    "\n",
    "df['Residual_T_i|T_(i-1)'] = df['Predicted_T_i|T_(i-1)'] - df['Open']"
   ]
  },
  {
   "cell_type": "code",
   "execution_count": 98,
   "metadata": {},
   "outputs": [
    {
     "name": "stdout",
     "output_type": "stream",
     "text": [
      "-0.06987577917444626\n"
     ]
    }
   ],
   "source": [
    "# #repeat the above procedure to calculate the second time series of residuals\n",
    "lm = linear_model.LinearRegression()\n",
    "df_X = df[['Lag2']] #Note the double brackets! [[]]\n",
    "df_y = df['Lag1'] #Note the single brackets! []\n",
    "model = lm.fit(df_X,df_y)\n",
    "df['Predicted_T_(i-1)|T_(i-2)'] = lm.predict(df_X)\n",
    "#Observed minus predicted\n",
    "df['Residual_T_(i-1)|T_(i-2)'] = df['Predicted_T_(i-1)|T_(i-2)'] -  df['Lag1']\n",
    "\n",
    "#Finally, apply the formula for Pearson's r to the two time series of residuals to get the value of the PACF at LAG=2\n",
    "print(df.corr(method='pearson')['Residual_T_i|T_(i-1)']['Residual_T_(i-1)|T_(i-2)'])"
   ]
  },
  {
   "cell_type": "code",
   "execution_count": 99,
   "metadata": {},
   "outputs": [
    {
     "data": {
      "text/html": [
       "<div>\n",
       "<style scoped>\n",
       "    .dataframe tbody tr th:only-of-type {\n",
       "        vertical-align: middle;\n",
       "    }\n",
       "\n",
       "    .dataframe tbody tr th {\n",
       "        vertical-align: top;\n",
       "    }\n",
       "\n",
       "    .dataframe thead th {\n",
       "        text-align: right;\n",
       "    }\n",
       "</style>\n",
       "<table border=\"1\" class=\"dataframe\">\n",
       "  <thead>\n",
       "    <tr style=\"text-align: right;\">\n",
       "      <th></th>\n",
       "      <th>Open</th>\n",
       "      <th>Open_diff</th>\n",
       "      <th>Lag1</th>\n",
       "      <th>Lag2</th>\n",
       "      <th>Predicted_T_i|T_(i-1)</th>\n",
       "      <th>Residual_T_i|T_(i-1)</th>\n",
       "      <th>Predicted_T_(i-1)|T_(i-2)</th>\n",
       "      <th>Residual_T_(i-1)|T_(i-2)</th>\n",
       "    </tr>\n",
       "    <tr>\n",
       "      <th>Date</th>\n",
       "      <th></th>\n",
       "      <th></th>\n",
       "      <th></th>\n",
       "      <th></th>\n",
       "      <th></th>\n",
       "      <th></th>\n",
       "      <th></th>\n",
       "      <th></th>\n",
       "    </tr>\n",
       "  </thead>\n",
       "  <tbody>\n",
       "    <tr>\n",
       "      <th>2021-01-04</th>\n",
       "      <td>133.520004</td>\n",
       "      <td>0.940002</td>\n",
       "      <td>134.080002</td>\n",
       "      <td>135.580002</td>\n",
       "      <td>134.252177</td>\n",
       "      <td>0.732173</td>\n",
       "      <td>135.744496</td>\n",
       "      <td>1.664494</td>\n",
       "    </tr>\n",
       "    <tr>\n",
       "      <th>2021-01-05</th>\n",
       "      <td>128.889999</td>\n",
       "      <td>-4.070007</td>\n",
       "      <td>133.520004</td>\n",
       "      <td>134.080002</td>\n",
       "      <td>133.692064</td>\n",
       "      <td>4.802065</td>\n",
       "      <td>134.245229</td>\n",
       "      <td>0.725225</td>\n",
       "    </tr>\n",
       "    <tr>\n",
       "      <th>2021-01-06</th>\n",
       "      <td>127.720001</td>\n",
       "      <td>3.460007</td>\n",
       "      <td>128.889999</td>\n",
       "      <td>133.520004</td>\n",
       "      <td>129.061106</td>\n",
       "      <td>1.341105</td>\n",
       "      <td>133.685505</td>\n",
       "      <td>4.795506</td>\n",
       "    </tr>\n",
       "    <tr>\n",
       "      <th>2021-01-07</th>\n",
       "      <td>128.360001</td>\n",
       "      <td>1.809998</td>\n",
       "      <td>127.720001</td>\n",
       "      <td>128.889999</td>\n",
       "      <td>127.890867</td>\n",
       "      <td>-0.469134</td>\n",
       "      <td>129.057764</td>\n",
       "      <td>1.337763</td>\n",
       "    </tr>\n",
       "    <tr>\n",
       "      <th>2021-01-08</th>\n",
       "      <td>132.429993</td>\n",
       "      <td>3.429992</td>\n",
       "      <td>128.360001</td>\n",
       "      <td>127.720001</td>\n",
       "      <td>128.530999</td>\n",
       "      <td>-3.898994</td>\n",
       "      <td>127.888338</td>\n",
       "      <td>-0.471663</td>\n",
       "    </tr>\n",
       "  </tbody>\n",
       "</table>\n",
       "</div>"
      ],
      "text/plain": [
       "                  Open  Open_diff        Lag1        Lag2  \\\n",
       "Date                                                        \n",
       "2021-01-04  133.520004   0.940002  134.080002  135.580002   \n",
       "2021-01-05  128.889999  -4.070007  133.520004  134.080002   \n",
       "2021-01-06  127.720001   3.460007  128.889999  133.520004   \n",
       "2021-01-07  128.360001   1.809998  127.720001  128.889999   \n",
       "2021-01-08  132.429993   3.429992  128.360001  127.720001   \n",
       "\n",
       "            Predicted_T_i|T_(i-1)  Residual_T_i|T_(i-1)  \\\n",
       "Date                                                      \n",
       "2021-01-04             134.252177              0.732173   \n",
       "2021-01-05             133.692064              4.802065   \n",
       "2021-01-06             129.061106              1.341105   \n",
       "2021-01-07             127.890867             -0.469134   \n",
       "2021-01-08             128.530999             -3.898994   \n",
       "\n",
       "            Predicted_T_(i-1)|T_(i-2)  Residual_T_(i-1)|T_(i-2)  \n",
       "Date                                                             \n",
       "2021-01-04                 135.744496                  1.664494  \n",
       "2021-01-05                 134.245229                  0.725225  \n",
       "2021-01-06                 133.685505                  4.795506  \n",
       "2021-01-07                 129.057764                  1.337763  \n",
       "2021-01-08                 127.888338                 -0.471663  "
      ]
     },
     "execution_count": 99,
     "metadata": {},
     "output_type": "execute_result"
    }
   ],
   "source": [
    "df.head()"
   ]
  },
  {
   "cell_type": "code",
   "execution_count": 100,
   "metadata": {},
   "outputs": [
    {
     "name": "stdout",
     "output_type": "stream",
     "text": [
      "-0.3673984544852718\n"
     ]
    }
   ],
   "source": [
    "#or cheat, we can use a Python library statsmodels to calculate PACF\n",
    "from statsmodels.tsa.stattools import pacf\n",
    "print(pacf(df['Open_diff'], nlags=2)[2])"
   ]
  },
  {
   "cell_type": "markdown",
   "metadata": {},
   "source": [
    "## AR completion from scratch."
   ]
  },
  {
   "cell_type": "markdown",
   "metadata": {},
   "source": [
    "In this part, we use AR model to predict Apple's stock price. Again, the data is from Apple.Inc (one year: from 28/Dec/2020 to 27/Dec/2021). In order to help you gain the insights of AR model, instead of using exsiting Python Statsmodels library (https://www.statsmodels.org/dev/generated/statsmodels.tsa.ar_model.AutoReg.html), I tend to show an example to implement AR from scratch. Addtionally, you can use this Statsmodels library to test performance by yourself. "
   ]
  },
  {
   "cell_type": "code",
   "execution_count": 101,
   "metadata": {
    "colab": {},
    "colab_type": "code",
    "id": "biQmKhWqPyMW"
   },
   "outputs": [],
   "source": [
    "import numpy as np\n",
    "import pandas as pd\n",
    "import matplotlib.pyplot as plt\n",
    "import seaborn as sns\n",
    "from sklearn.metrics import mean_squared_error\n",
    "from statsmodels.tsa.stattools import adfuller\n",
    "from statsmodels.graphics.tsaplots import plot_acf,plot_pacf\n",
    "pd.options.mode.chained_assignment = None  # default='warn'"
   ]
  },
  {
   "cell_type": "code",
   "execution_count": 106,
   "metadata": {
    "colab": {},
    "colab_type": "code",
    "id": "Ifs_2NXSPz3p"
   },
   "outputs": [],
   "source": [
    "df=pd.read_csv('AAPL.csv', parse_dates=['Date'], index_col=['Date'], dayfirst=True)\n",
    "df.columns=['Open']"
   ]
  },
  {
   "cell_type": "code",
   "execution_count": 107,
   "metadata": {
    "colab": {
     "base_uri": "https://localhost:8080/",
     "height": 455
    },
    "colab_type": "code",
    "id": "uDoQ3iFQP2Vk",
    "outputId": "803f1514-2c5f-48a2-d9cc-084a2c0c8944"
   },
   "outputs": [
    {
     "data": {
      "text/html": [
       "<div>\n",
       "<style scoped>\n",
       "    .dataframe tbody tr th:only-of-type {\n",
       "        vertical-align: middle;\n",
       "    }\n",
       "\n",
       "    .dataframe tbody tr th {\n",
       "        vertical-align: top;\n",
       "    }\n",
       "\n",
       "    .dataframe thead th {\n",
       "        text-align: right;\n",
       "    }\n",
       "</style>\n",
       "<table border=\"1\" class=\"dataframe\">\n",
       "  <thead>\n",
       "    <tr style=\"text-align: right;\">\n",
       "      <th></th>\n",
       "      <th>Open</th>\n",
       "    </tr>\n",
       "    <tr>\n",
       "      <th>Date</th>\n",
       "      <th></th>\n",
       "    </tr>\n",
       "  </thead>\n",
       "  <tbody>\n",
       "    <tr>\n",
       "      <th>2020-12-28</th>\n",
       "      <td>133.990005</td>\n",
       "    </tr>\n",
       "    <tr>\n",
       "      <th>2020-12-29</th>\n",
       "      <td>138.050003</td>\n",
       "    </tr>\n",
       "    <tr>\n",
       "      <th>2020-12-30</th>\n",
       "      <td>135.580002</td>\n",
       "    </tr>\n",
       "    <tr>\n",
       "      <th>2020-12-31</th>\n",
       "      <td>134.080002</td>\n",
       "    </tr>\n",
       "    <tr>\n",
       "      <th>2021-01-04</th>\n",
       "      <td>133.520004</td>\n",
       "    </tr>\n",
       "    <tr>\n",
       "      <th>...</th>\n",
       "      <td>...</td>\n",
       "    </tr>\n",
       "    <tr>\n",
       "      <th>2021-12-20</th>\n",
       "      <td>168.279999</td>\n",
       "    </tr>\n",
       "    <tr>\n",
       "      <th>2021-12-21</th>\n",
       "      <td>171.559998</td>\n",
       "    </tr>\n",
       "    <tr>\n",
       "      <th>2021-12-22</th>\n",
       "      <td>173.039993</td>\n",
       "    </tr>\n",
       "    <tr>\n",
       "      <th>2021-12-23</th>\n",
       "      <td>175.850006</td>\n",
       "    </tr>\n",
       "    <tr>\n",
       "      <th>2021-12-27</th>\n",
       "      <td>177.085007</td>\n",
       "    </tr>\n",
       "  </tbody>\n",
       "</table>\n",
       "<p>252 rows × 1 columns</p>\n",
       "</div>"
      ],
      "text/plain": [
       "                  Open\n",
       "Date                  \n",
       "2020-12-28  133.990005\n",
       "2020-12-29  138.050003\n",
       "2020-12-30  135.580002\n",
       "2020-12-31  134.080002\n",
       "2021-01-04  133.520004\n",
       "...                ...\n",
       "2021-12-20  168.279999\n",
       "2021-12-21  171.559998\n",
       "2021-12-22  173.039993\n",
       "2021-12-23  175.850006\n",
       "2021-12-27  177.085007\n",
       "\n",
       "[252 rows x 1 columns]"
      ]
     },
     "execution_count": 107,
     "metadata": {},
     "output_type": "execute_result"
    }
   ],
   "source": [
    "df"
   ]
  },
  {
   "cell_type": "code",
   "execution_count": 123,
   "metadata": {},
   "outputs": [
    {
     "data": {
      "text/plain": [
       "243"
      ]
     },
     "execution_count": 123,
     "metadata": {},
     "output_type": "execute_result"
    }
   ],
   "source": [
    "df_temp = df\n",
    "\n",
    "for i in range(1, 10):\n",
    "    df_temp['lag_%i' %i] = df_temp['Open'].shift(i)\n",
    "#     df_temp['lag_%i' %i].fillna(df['lag_%i' %i].mean(), inplace=True) impute missing values\n",
    "    \n",
    "df_temp = df_temp.dropna()\n",
    "\n",
    "df_temp.shape[0]\n"
   ]
  },
  {
   "cell_type": "markdown",
   "metadata": {
    "colab_type": "text",
    "id": "XLeda3SzN_xQ"
   },
   "source": [
    "### Equation for AR model : <br>\n",
    "$Y_{t}=c+\\sum_{i=1}^{p} \\varphi_{i} Y_{t-i}+\\varepsilon_{t}=c+\\varphi_{1} Y_{t-1}+\\varphi_{2} Y_{t-2}+\\ldots \\ldots \\ldots \\ldots \\ldots+\\varphi_{p} Y_{t-p}+\\varepsilon_{t}$"
   ]
  },
  {
   "cell_type": "code",
   "execution_count": null,
   "metadata": {},
   "outputs": [],
   "source": []
  },
  {
   "cell_type": "code",
   "execution_count": 17,
   "metadata": {
    "colab": {},
    "colab_type": "code",
    "id": "5aAFRsagP3AE"
   },
   "outputs": [],
   "source": [
    "\n",
    "def AR(p,df):\n",
    "  df_temp = df\n",
    "\n",
    "  # Generating the lagged p terms\n",
    "  for i in range(1, p):\n",
    "    df_temp['lag_%i' %i] = df_temp['Open'].shift(i)\n",
    "  \n",
    "  # calculate the size of train data (80% data as train data)\n",
    "  train_data_size = df_temp.shape[0] * 0.8\n",
    "\n",
    "  #Breaking data set into test and training\n",
    "\n",
    "    \n",
    "  # delete null values in train data\n",
    "\n",
    "  #X contains the lagged values ,hence we skip the first column\n",
    "\n",
    "  #Y contains the value,it is the first column\n",
    "\n",
    "\n",
    "  #Running linear regression to generate the coefficents of lagged terms\n",
    " \n",
    "  \n",
    "  # extract trained parameters (i.e., coefficients and intercept) in linear regression\n",
    "  \n",
    "\n",
    "  # check how our trained model for tained data\n",
    "\n",
    "\n",
    "  # predict the 'y' value in the test set\n",
    " \n",
    "\n",
    "  # evaluate the performance by calculating mean squared error\n"
   ]
  },
  {
   "cell_type": "code",
   "execution_count": 37,
   "metadata": {
    "colab": {
     "base_uri": "https://localhost:8080/",
     "height": 545
    },
    "colab_type": "code",
    "id": "PRz2JCzORp1_",
    "outputId": "22f0fea8-ce3d-4e7c-8415-e543d670797a"
   },
   "outputs": [],
   "source": [
    "# plot ACF values\n",
    "\n",
    "# with the PACF, we can figure out how many lags we need in the AR model.\n"
   ]
  },
  {
   "cell_type": "markdown",
   "metadata": {},
   "source": [
    "From the above figure of PACF, we can use it as the lag number."
   ]
  },
  {
   "cell_type": "code",
   "execution_count": null,
   "metadata": {},
   "outputs": [],
   "source": []
  },
  {
   "cell_type": "markdown",
   "metadata": {
    "colab_type": "text",
    "id": "uF7YAA-CUdJ5"
   },
   "source": [
    "#Step 2 : Fitting AR Model"
   ]
  },
  {
   "cell_type": "markdown",
   "metadata": {
    "colab_type": "text",
    "id": "aidxF-s0MxBy"
   },
   "source": [
    "We calculate the error on the test-set for each p, and pick the best one."
   ]
  },
  {
   "cell_type": "code",
   "execution_count": null,
   "metadata": {},
   "outputs": [],
   "source": [
    "[df_train,df_test,theta,intercept,RMSE] = AR(lag_num,pd.DataFrame(df.Open))"
   ]
  },
  {
   "cell_type": "code",
   "execution_count": 38,
   "metadata": {
    "colab": {
     "base_uri": "https://localhost:8080/",
     "height": 296
    },
    "colab_type": "code",
    "id": "sHeygqNmUzTa",
    "outputId": "272b300d-afaa-487c-d3c6-27094fd1421a"
   },
   "outputs": [],
   "source": [
    "# visulise how our trained model for tained data\n"
   ]
  },
  {
   "cell_type": "code",
   "execution_count": 1,
   "metadata": {},
   "outputs": [],
   "source": [
    "# the visulise and compare between true and predicted prices\n"
   ]
  },
  {
   "cell_type": "code",
   "execution_count": null,
   "metadata": {},
   "outputs": [],
   "source": []
  }
 ],
 "metadata": {
  "colab": {
   "authorship_tag": "ABX9TyMWfhj+QNF5qfMea3tyuvJl",
   "collapsed_sections": [
    "FNjoBztsQmjA",
    "uF7YAA-CUdJ5",
    "wYNmLLLaWCIg"
   ],
   "name": "ARIMA.ipynb",
   "provenance": []
  },
  "kernelspec": {
   "display_name": "Python 3",
   "language": "python",
   "name": "python3"
  },
  "language_info": {
   "codemirror_mode": {
    "name": "ipython",
    "version": 3
   },
   "file_extension": ".py",
   "mimetype": "text/x-python",
   "name": "python",
   "nbconvert_exporter": "python",
   "pygments_lexer": "ipython3",
   "version": "3.7.6"
  }
 },
 "nbformat": 4,
 "nbformat_minor": 4
}
